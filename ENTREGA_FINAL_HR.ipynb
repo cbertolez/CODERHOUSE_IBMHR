{
  "nbformat": 4,
  "nbformat_minor": 0,
  "metadata": {
    "colab": {
      "name": " ENTREGA FINAL - HR.ipynb",
      "provenance": [],
      "collapsed_sections": [
        "ezL9-28dRUMN",
        "9YrQ5f991dBp",
        "ZzM8hB6SyHCZ",
        "2gPoZwT3QFsg",
        "nItSbqkUz92e",
        "DcwtEVcT0j-g",
        "rQ-lMzMX302j",
        "DA1jxX5Q1XIR",
        "sVI1KrI-Vjyu",
        "kg-_vxvzQbmy",
        "5qLMTZ5EQjvZ",
        "sqoH4HypQ0GG",
        "KFw6uTW05NSz",
        "r9H4zbGvVnL6",
        "Sm24G_pibkCC",
        "6qt7YjTkbsU8",
        "FUVqKxxRb5vA",
        "8r2RYi50VqnO",
        "qIdvR0Wm0z2P",
        "VoGBvGUtESdj",
        "T1GLzqJ0LLkw",
        "FvSKkuVBskWR",
        "6mgxlippHvA0",
        "Mmxb2YbFM7Sd",
        "HUixTGgMnIKC",
        "gGz-7wH4a2Y0",
        "_DwU1fPTnhNS",
        "jPUpIOBnNhfN",
        "uX-fd10Anjow",
        "T-kSa0eDcsPs",
        "x-nqG8pddEKo",
        "OEBlbI9RvSmK",
        "89zk9EnbPJ8I",
        "usIo9ldoPP7z"
      ],
      "toc_visible": true
    },
    "kernelspec": {
      "name": "python3",
      "display_name": "Python 3"
    },
    "language_info": {
      "name": "python"
    }
  },
  "cells": [
    {
      "cell_type": "markdown",
      "source": [
        "[texto del enlace](https://)## 1 . Sobre los datos"
      ],
      "metadata": {
        "id": "YppVRdffRpuO"
      }
    },
    {
      "cell_type": "markdown",
      "source": [
        " El dataset elegido es:\n",
        " IBM HR Analytics Employee Attrition & Performance\n",
        " IBM ha recopilado información sobre la satisfacción de los empleados, los ingresos, la antigüedad y algunos datos demográficos.\n",
        "\n",
        " Incluye los datos de 1470 empleados. \n",
        " https://www.kaggle.com/pavansubhasht/ibm-hr-analytics-attrition-datase\n",
        "\n"
      ],
      "metadata": {
        "id": "V995Hc5fxt4A"
      }
    },
    {
      "cell_type": "markdown",
      "source": [
        "<li><strong>DISTANCIA&nbsp;DESDE&nbsp;CASA&nbsp;</strong>&nbsp;Valor&nbsp;Num&eacute;rico&nbsp;-&nbsp;LA&nbsp;DISTANCIA&nbsp;DEL&nbsp;TRABAJO&nbsp;A&nbsp;LA&nbsp;CASA</li>\n",
        "<li><strong>EDUCACI&Oacute;N&nbsp;</strong>Valor&nbsp;num&eacute;rico</li>\n",
        "<li><strong>&Aacute;REA&nbsp;DE&nbsp;ESTUDIOS</strong>&nbsp; <strong>&nbsp;</strong>Valor <strong>alfan&uacute;merico&nbsp;</strong>(1=RRHH,&nbsp;2=CIENCIAS&nbsp;DE&nbsp;LA&nbsp;VIDA,&nbsp;3=MARKETING,&nbsp;4=CIENCIAS&nbsp;M&Eacute;DICAS,&nbsp;5=OTROS,&nbsp;6=T&Eacute;CNICO)</li>\n",
        "<li><strong>N&Uacute;MERO&nbsp;DE&nbsp;EMPLEADOS</strong>&nbsp;Valor&nbsp;num&eacute;rico</li>\n",
        "<li><strong>N&Uacute;MERO&nbsp;DE&nbsp;EMPLEADO</strong>&nbsp;&nbsp;Valor&nbsp;num&eacute;rico&nbsp;-&nbsp;ID&nbsp;DE&nbsp;EMPLEADO</li>\n",
        "<li><strong>SATISFACCI&Oacute;N ENTORNO&nbsp;</strong>Valor Num&eacute;rico -&nbsp;&nbsp;</li>\n",
        "<li style=\"font-weight: 400;\" ><strong>G&Eacute;NERO&nbsp;Valor alfan&uacute;merico&nbsp;</strong>(1=MUJER, 2=MASCULINO)</li>\n",
        "<li style=\"font-weight: 400;\" ><strong>TARIFA POR HORA</strong> Valor Num&eacute;rico&nbsp;&nbsp;</li>\n",
        "<li style=\"font-weight: 400;\" ><strong>PARTICIPACI&Oacute;N LABORAL</strong> Valor num&eacute;rico&nbsp;&nbsp;</li>\n",
        "<li style=\"font-weight: 400;\" ><strong>NIVEL DE TRABAJO</strong> Valor Num&eacute;rico&nbsp;</li>\n",
        "<li style=\"font-weight: 400;\" ><strong>PUESTO DE TRABAJO </strong>Valor alfanum&eacute;rico(1=REPRESENTANTE DE HC, 2=RRHH, 3=T&Eacute;CNICO DE LABORATORIO, 4=GERENTE, 5=DIRECTOR GENERAL, 6=DIRECTOR DE INVESTIGACI&Oacute;N, 7=CIENT&Iacute;FICO DE INVESTIGACI&Oacute;N, 8=EJECUTIVO DE VENTAS, 9=REPRESENTANTE DE VENTAS)</li>\n",
        "<li style=\"font-weight: 400;\" ><strong>SATISFACCI&Oacute;N LABORAL</strong> Valor Num&eacute;rico&nbsp;&nbsp;</li>\n",
        "<li style=\"font-weight: 400;\" ><strong>ESTADO CIVIL</strong> (1=DIVORCIADO, 2=CASADO, 3=SOLO)</li>\n",
        "<li style=\"font-weight: 400;\" ><strong>INGRESO MENSUAL</strong> Valor Num&eacute;rico - SALARIO MENSUAL</li>\n",
        "<li style=\"font-weight: 400;\" ><strong>TARIFA MENSUAL</strong> Valor Num&eacute;rico - TASA MENSUAL</li>\n",
        "<li style=\"font-weight: 400;\" ><strong>NUM EMPRESAS TRABAJADAS</strong> Valor alfanumerico- NO. DE EMPRESAS EN LAS QUE TRABAJ&Oacute;</li>\n",
        "<li style=\"font-weight: 400;\" ><strong>MAYORES DE 18&nbsp;</strong> (1=SI, 2=NO)</li>\n",
        "<li style=\"font-weight: 400;\" ><strong>TIEMPO EXTRAORDINARIO</strong> (1=NO, 2=SI)</li>\n",
        "<li style=\"font-weight: 400;\" ><strong>PORCENTAJE DE AUMENTO SALARIAL </strong> Valor Num&eacute;rico&nbsp;&nbsp;</li>\n",
        "<li style=\"font-weight: 400;\" ><strong>CLASIFICACI&Oacute;N DE RENDIMIENTO</strong> Valor num&eacute;rico&nbsp;&nbsp;</li>\n",
        "<li style=\"font-weight: 400;\" ><strong>RELACIONES SATISFACCI&Oacute;N</strong> Valor num&eacute;rico&nbsp;&nbsp;</li>\n",
        "<li style=\"font-weight: 400;\" ><strong>HORARIO EST&Aacute;NDAR</strong> Valor num&eacute;rico&nbsp;&nbsp;</li>\n",
        "<li style=\"font-weight: 400;\" ><strong>NIVEL DE OPCIONES DE ACCIONES</strong> Valor num&eacute;rico - OPCIONES DE ACCIONES</li>\n",
        "<li style=\"font-weight: 400;\" ><strong>A&Ntilde;OS TRABAJADOS TOTALES</strong> Valor num&eacute;rico&nbsp;&nbsp;</li>\n",
        "<li style=\"font-weight: 400;\" ><strong>TIEMPOS DE ENTRENAMIENTO EL A&Ntilde;O PASADO</strong> Valor Num&eacute;rico&nbsp;</li>\n",
        "</ul>"
      ],
      "metadata": {
        "id": "MgoKJ0aVtGck"
      }
    },
    {
      "cell_type": "markdown",
      "source": [
        "---"
      ],
      "metadata": {
        "id": "SLz2ZD0srxH7"
      }
    },
    {
      "cell_type": "markdown",
      "source": [
        "##  2 . Data Adquisition / Data Wrangling"
      ],
      "metadata": {
        "id": "ezL9-28dRUMN"
      }
    },
    {
      "cell_type": "markdown",
      "source": [
        "### 2.1. Importación de librerias "
      ],
      "metadata": {
        "id": "9YrQ5f991dBp"
      }
    },
    {
      "cell_type": "code",
      "source": [
        "import numpy as np\n",
        "import pandas as pd\n",
        "import seaborn as sns\n",
        "import matplotlib.pyplot as plt\n",
        "import matplotlib.style as style\n",
        "from sklearn.model_selection import train_test_split\n",
        "sns.set()\n",
        "sns.set_style(\"white\")\n",
        "sns.set_palette(\"mako_r\")"
      ],
      "metadata": {
        "id": "ZedAkTCpH5HR"
      },
      "execution_count": null,
      "outputs": []
    },
    {
      "cell_type": "markdown",
      "source": [
        "### 2.2. Lectura del dataframe"
      ],
      "metadata": {
        "id": "ZzM8hB6SyHCZ"
      }
    },
    {
      "cell_type": "code",
      "source": [
        "#Lectura del dataframe  \n",
        "\n",
        "url='https://drive.google.com/file/d/1q73lKug9RiPr8RvQ-yxcOK3i-NuFlTbp/view?usp=sharing'\n",
        "url='https://drive.google.com/uc?id=' + url.split('/')[-2]\n",
        "dataFrameOriginal = pd.read_csv(url)#Carga del archivo 'data.csv', y almacenamos en  el dataFrame 'dataFrameOriginal'\n"
      ],
      "metadata": {
        "id": "foE9wXCpH4e7"
      },
      "execution_count": null,
      "outputs": []
    },
    {
      "cell_type": "code",
      "source": [
        "#Visualizamos las primeras 5 filas\n",
        "dataFrameOriginal.head()"
      ],
      "metadata": {
        "id": "hM4YaaYuNzCO",
        "colab": {
          "base_uri": "https://localhost:8080/"
        },
        "outputId": "34ef64e2-2335-4443-8c76-24aaf87da776"
      },
      "execution_count": null,
      "outputs": [
        {
          "output_type": "execute_result",
          "data": {
            "text/plain": [
              "   Age Attrition     BusinessTravel  DailyRate              Department  \\\n",
              "0   41       Yes      Travel_Rarely       1102                   Sales   \n",
              "1   49        No  Travel_Frequently        279  Research & Development   \n",
              "2   37       Yes      Travel_Rarely       1373  Research & Development   \n",
              "3   33        No  Travel_Frequently       1392  Research & Development   \n",
              "4   27        No      Travel_Rarely        591  Research & Development   \n",
              "\n",
              "   DistanceFromHome  Education EducationField  EmployeeCount  EmployeeNumber  \\\n",
              "0                 1          2  Life Sciences              1               1   \n",
              "1                 8          1  Life Sciences              1               2   \n",
              "2                 2          2          Other              1               4   \n",
              "3                 3          4  Life Sciences              1               5   \n",
              "4                 2          1        Medical              1               7   \n",
              "\n",
              "   ...  RelationshipSatisfaction StandardHours  StockOptionLevel  \\\n",
              "0  ...                         1            80                 0   \n",
              "1  ...                         4            80                 1   \n",
              "2  ...                         2            80                 0   \n",
              "3  ...                         3            80                 0   \n",
              "4  ...                         4            80                 1   \n",
              "\n",
              "   TotalWorkingYears  TrainingTimesLastYear WorkLifeBalance  YearsAtCompany  \\\n",
              "0                  8                      0               1               6   \n",
              "1                 10                      3               3              10   \n",
              "2                  7                      3               3               0   \n",
              "3                  8                      3               3               8   \n",
              "4                  6                      3               3               2   \n",
              "\n",
              "  YearsInCurrentRole  YearsSinceLastPromotion  YearsWithCurrManager  \n",
              "0                  4                        0                     5  \n",
              "1                  7                        1                     7  \n",
              "2                  0                        0                     0  \n",
              "3                  7                        3                     0  \n",
              "4                  2                        2                     2  \n",
              "\n",
              "[5 rows x 35 columns]"
            ],
            "text/html": [
              "\n",
              "  <div id=\"df-327eb971-8d2d-46bd-936a-1baf23863658\">\n",
              "    <div class=\"colab-df-container\">\n",
              "      <div>\n",
              "<style scoped>\n",
              "    .dataframe tbody tr th:only-of-type {\n",
              "        vertical-align: middle;\n",
              "    }\n",
              "\n",
              "    .dataframe tbody tr th {\n",
              "        vertical-align: top;\n",
              "    }\n",
              "\n",
              "    .dataframe thead th {\n",
              "        text-align: right;\n",
              "    }\n",
              "</style>\n",
              "<table border=\"1\" class=\"dataframe\">\n",
              "  <thead>\n",
              "    <tr style=\"text-align: right;\">\n",
              "      <th></th>\n",
              "      <th>Age</th>\n",
              "      <th>Attrition</th>\n",
              "      <th>BusinessTravel</th>\n",
              "      <th>DailyRate</th>\n",
              "      <th>Department</th>\n",
              "      <th>DistanceFromHome</th>\n",
              "      <th>Education</th>\n",
              "      <th>EducationField</th>\n",
              "      <th>EmployeeCount</th>\n",
              "      <th>EmployeeNumber</th>\n",
              "      <th>...</th>\n",
              "      <th>RelationshipSatisfaction</th>\n",
              "      <th>StandardHours</th>\n",
              "      <th>StockOptionLevel</th>\n",
              "      <th>TotalWorkingYears</th>\n",
              "      <th>TrainingTimesLastYear</th>\n",
              "      <th>WorkLifeBalance</th>\n",
              "      <th>YearsAtCompany</th>\n",
              "      <th>YearsInCurrentRole</th>\n",
              "      <th>YearsSinceLastPromotion</th>\n",
              "      <th>YearsWithCurrManager</th>\n",
              "    </tr>\n",
              "  </thead>\n",
              "  <tbody>\n",
              "    <tr>\n",
              "      <th>0</th>\n",
              "      <td>41</td>\n",
              "      <td>Yes</td>\n",
              "      <td>Travel_Rarely</td>\n",
              "      <td>1102</td>\n",
              "      <td>Sales</td>\n",
              "      <td>1</td>\n",
              "      <td>2</td>\n",
              "      <td>Life Sciences</td>\n",
              "      <td>1</td>\n",
              "      <td>1</td>\n",
              "      <td>...</td>\n",
              "      <td>1</td>\n",
              "      <td>80</td>\n",
              "      <td>0</td>\n",
              "      <td>8</td>\n",
              "      <td>0</td>\n",
              "      <td>1</td>\n",
              "      <td>6</td>\n",
              "      <td>4</td>\n",
              "      <td>0</td>\n",
              "      <td>5</td>\n",
              "    </tr>\n",
              "    <tr>\n",
              "      <th>1</th>\n",
              "      <td>49</td>\n",
              "      <td>No</td>\n",
              "      <td>Travel_Frequently</td>\n",
              "      <td>279</td>\n",
              "      <td>Research &amp; Development</td>\n",
              "      <td>8</td>\n",
              "      <td>1</td>\n",
              "      <td>Life Sciences</td>\n",
              "      <td>1</td>\n",
              "      <td>2</td>\n",
              "      <td>...</td>\n",
              "      <td>4</td>\n",
              "      <td>80</td>\n",
              "      <td>1</td>\n",
              "      <td>10</td>\n",
              "      <td>3</td>\n",
              "      <td>3</td>\n",
              "      <td>10</td>\n",
              "      <td>7</td>\n",
              "      <td>1</td>\n",
              "      <td>7</td>\n",
              "    </tr>\n",
              "    <tr>\n",
              "      <th>2</th>\n",
              "      <td>37</td>\n",
              "      <td>Yes</td>\n",
              "      <td>Travel_Rarely</td>\n",
              "      <td>1373</td>\n",
              "      <td>Research &amp; Development</td>\n",
              "      <td>2</td>\n",
              "      <td>2</td>\n",
              "      <td>Other</td>\n",
              "      <td>1</td>\n",
              "      <td>4</td>\n",
              "      <td>...</td>\n",
              "      <td>2</td>\n",
              "      <td>80</td>\n",
              "      <td>0</td>\n",
              "      <td>7</td>\n",
              "      <td>3</td>\n",
              "      <td>3</td>\n",
              "      <td>0</td>\n",
              "      <td>0</td>\n",
              "      <td>0</td>\n",
              "      <td>0</td>\n",
              "    </tr>\n",
              "    <tr>\n",
              "      <th>3</th>\n",
              "      <td>33</td>\n",
              "      <td>No</td>\n",
              "      <td>Travel_Frequently</td>\n",
              "      <td>1392</td>\n",
              "      <td>Research &amp; Development</td>\n",
              "      <td>3</td>\n",
              "      <td>4</td>\n",
              "      <td>Life Sciences</td>\n",
              "      <td>1</td>\n",
              "      <td>5</td>\n",
              "      <td>...</td>\n",
              "      <td>3</td>\n",
              "      <td>80</td>\n",
              "      <td>0</td>\n",
              "      <td>8</td>\n",
              "      <td>3</td>\n",
              "      <td>3</td>\n",
              "      <td>8</td>\n",
              "      <td>7</td>\n",
              "      <td>3</td>\n",
              "      <td>0</td>\n",
              "    </tr>\n",
              "    <tr>\n",
              "      <th>4</th>\n",
              "      <td>27</td>\n",
              "      <td>No</td>\n",
              "      <td>Travel_Rarely</td>\n",
              "      <td>591</td>\n",
              "      <td>Research &amp; Development</td>\n",
              "      <td>2</td>\n",
              "      <td>1</td>\n",
              "      <td>Medical</td>\n",
              "      <td>1</td>\n",
              "      <td>7</td>\n",
              "      <td>...</td>\n",
              "      <td>4</td>\n",
              "      <td>80</td>\n",
              "      <td>1</td>\n",
              "      <td>6</td>\n",
              "      <td>3</td>\n",
              "      <td>3</td>\n",
              "      <td>2</td>\n",
              "      <td>2</td>\n",
              "      <td>2</td>\n",
              "      <td>2</td>\n",
              "    </tr>\n",
              "  </tbody>\n",
              "</table>\n",
              "<p>5 rows × 35 columns</p>\n",
              "</div>\n",
              "      <button class=\"colab-df-convert\" onclick=\"convertToInteractive('df-327eb971-8d2d-46bd-936a-1baf23863658')\"\n",
              "              title=\"Convert this dataframe to an interactive table.\"\n",
              "              style=\"display:none;\">\n",
              "        \n",
              "  <svg xmlns=\"http://www.w3.org/2000/svg\" height=\"24px\"viewBox=\"0 0 24 24\"\n",
              "       width=\"24px\">\n",
              "    <path d=\"M0 0h24v24H0V0z\" fill=\"none\"/>\n",
              "    <path d=\"M18.56 5.44l.94 2.06.94-2.06 2.06-.94-2.06-.94-.94-2.06-.94 2.06-2.06.94zm-11 1L8.5 8.5l.94-2.06 2.06-.94-2.06-.94L8.5 2.5l-.94 2.06-2.06.94zm10 10l.94 2.06.94-2.06 2.06-.94-2.06-.94-.94-2.06-.94 2.06-2.06.94z\"/><path d=\"M17.41 7.96l-1.37-1.37c-.4-.4-.92-.59-1.43-.59-.52 0-1.04.2-1.43.59L10.3 9.45l-7.72 7.72c-.78.78-.78 2.05 0 2.83L4 21.41c.39.39.9.59 1.41.59.51 0 1.02-.2 1.41-.59l7.78-7.78 2.81-2.81c.8-.78.8-2.07 0-2.86zM5.41 20L4 18.59l7.72-7.72 1.47 1.35L5.41 20z\"/>\n",
              "  </svg>\n",
              "      </button>\n",
              "      \n",
              "  <style>\n",
              "    .colab-df-container {\n",
              "      display:flex;\n",
              "      flex-wrap:wrap;\n",
              "      gap: 12px;\n",
              "    }\n",
              "\n",
              "    .colab-df-convert {\n",
              "      background-color: #E8F0FE;\n",
              "      border: none;\n",
              "      border-radius: 50%;\n",
              "      cursor: pointer;\n",
              "      display: none;\n",
              "      fill: #1967D2;\n",
              "      height: 32px;\n",
              "      padding: 0 0 0 0;\n",
              "      width: 32px;\n",
              "    }\n",
              "\n",
              "    .colab-df-convert:hover {\n",
              "      background-color: #E2EBFA;\n",
              "      box-shadow: 0px 1px 2px rgba(60, 64, 67, 0.3), 0px 1px 3px 1px rgba(60, 64, 67, 0.15);\n",
              "      fill: #174EA6;\n",
              "    }\n",
              "\n",
              "    [theme=dark] .colab-df-convert {\n",
              "      background-color: #3B4455;\n",
              "      fill: #D2E3FC;\n",
              "    }\n",
              "\n",
              "    [theme=dark] .colab-df-convert:hover {\n",
              "      background-color: #434B5C;\n",
              "      box-shadow: 0px 1px 3px 1px rgba(0, 0, 0, 0.15);\n",
              "      filter: drop-shadow(0px 1px 2px rgba(0, 0, 0, 0.3));\n",
              "      fill: #FFFFFF;\n",
              "    }\n",
              "  </style>\n",
              "\n",
              "      <script>\n",
              "        const buttonEl =\n",
              "          document.querySelector('#df-327eb971-8d2d-46bd-936a-1baf23863658 button.colab-df-convert');\n",
              "        buttonEl.style.display =\n",
              "          google.colab.kernel.accessAllowed ? 'block' : 'none';\n",
              "\n",
              "        async function convertToInteractive(key) {\n",
              "          const element = document.querySelector('#df-327eb971-8d2d-46bd-936a-1baf23863658');\n",
              "          const dataTable =\n",
              "            await google.colab.kernel.invokeFunction('convertToInteractive',\n",
              "                                                     [key], {});\n",
              "          if (!dataTable) return;\n",
              "\n",
              "          const docLinkHtml = 'Like what you see? Visit the ' +\n",
              "            '<a target=\"_blank\" href=https://colab.research.google.com/notebooks/data_table.ipynb>data table notebook</a>'\n",
              "            + ' to learn more about interactive tables.';\n",
              "          element.innerHTML = '';\n",
              "          dataTable['output_type'] = 'display_data';\n",
              "          await google.colab.output.renderOutput(dataTable, element);\n",
              "          const docLink = document.createElement('div');\n",
              "          docLink.innerHTML = docLinkHtml;\n",
              "          element.appendChild(docLink);\n",
              "        }\n",
              "      </script>\n",
              "    </div>\n",
              "  </div>\n",
              "  "
            ]
          },
          "metadata": {},
          "execution_count": 228
        }
      ]
    },
    {
      "cell_type": "code",
      "source": [
        "#Veamos las últimas 5 filas\n",
        "dataFrameOriginal.tail()"
      ],
      "metadata": {
        "id": "Aow5wHs-pTvO",
        "colab": {
          "base_uri": "https://localhost:8080/"
        },
        "outputId": "7b389cc2-c0c6-43ef-8074-443f05ffaa64"
      },
      "execution_count": null,
      "outputs": [
        {
          "output_type": "execute_result",
          "data": {
            "text/plain": [
              "      Age Attrition     BusinessTravel  DailyRate              Department  \\\n",
              "1465   36        No  Travel_Frequently        884  Research & Development   \n",
              "1466   39        No      Travel_Rarely        613  Research & Development   \n",
              "1467   27        No      Travel_Rarely        155  Research & Development   \n",
              "1468   49        No  Travel_Frequently       1023                   Sales   \n",
              "1469   34        No      Travel_Rarely        628  Research & Development   \n",
              "\n",
              "      DistanceFromHome  Education EducationField  EmployeeCount  \\\n",
              "1465                23          2        Medical              1   \n",
              "1466                 6          1        Medical              1   \n",
              "1467                 4          3  Life Sciences              1   \n",
              "1468                 2          3        Medical              1   \n",
              "1469                 8          3        Medical              1   \n",
              "\n",
              "      EmployeeNumber  ...  RelationshipSatisfaction StandardHours  \\\n",
              "1465            2061  ...                         3            80   \n",
              "1466            2062  ...                         1            80   \n",
              "1467            2064  ...                         2            80   \n",
              "1468            2065  ...                         4            80   \n",
              "1469            2068  ...                         1            80   \n",
              "\n",
              "      StockOptionLevel  TotalWorkingYears  TrainingTimesLastYear  \\\n",
              "1465                 1                 17                      3   \n",
              "1466                 1                  9                      5   \n",
              "1467                 1                  6                      0   \n",
              "1468                 0                 17                      3   \n",
              "1469                 0                  6                      3   \n",
              "\n",
              "     WorkLifeBalance  YearsAtCompany YearsInCurrentRole  \\\n",
              "1465               3               5                  2   \n",
              "1466               3               7                  7   \n",
              "1467               3               6                  2   \n",
              "1468               2               9                  6   \n",
              "1469               4               4                  3   \n",
              "\n",
              "      YearsSinceLastPromotion  YearsWithCurrManager  \n",
              "1465                        0                     3  \n",
              "1466                        1                     7  \n",
              "1467                        0                     3  \n",
              "1468                        0                     8  \n",
              "1469                        1                     2  \n",
              "\n",
              "[5 rows x 35 columns]"
            ],
            "text/html": [
              "\n",
              "  <div id=\"df-b8147d69-805d-45b2-ab8d-89eb3fcec247\">\n",
              "    <div class=\"colab-df-container\">\n",
              "      <div>\n",
              "<style scoped>\n",
              "    .dataframe tbody tr th:only-of-type {\n",
              "        vertical-align: middle;\n",
              "    }\n",
              "\n",
              "    .dataframe tbody tr th {\n",
              "        vertical-align: top;\n",
              "    }\n",
              "\n",
              "    .dataframe thead th {\n",
              "        text-align: right;\n",
              "    }\n",
              "</style>\n",
              "<table border=\"1\" class=\"dataframe\">\n",
              "  <thead>\n",
              "    <tr style=\"text-align: right;\">\n",
              "      <th></th>\n",
              "      <th>Age</th>\n",
              "      <th>Attrition</th>\n",
              "      <th>BusinessTravel</th>\n",
              "      <th>DailyRate</th>\n",
              "      <th>Department</th>\n",
              "      <th>DistanceFromHome</th>\n",
              "      <th>Education</th>\n",
              "      <th>EducationField</th>\n",
              "      <th>EmployeeCount</th>\n",
              "      <th>EmployeeNumber</th>\n",
              "      <th>...</th>\n",
              "      <th>RelationshipSatisfaction</th>\n",
              "      <th>StandardHours</th>\n",
              "      <th>StockOptionLevel</th>\n",
              "      <th>TotalWorkingYears</th>\n",
              "      <th>TrainingTimesLastYear</th>\n",
              "      <th>WorkLifeBalance</th>\n",
              "      <th>YearsAtCompany</th>\n",
              "      <th>YearsInCurrentRole</th>\n",
              "      <th>YearsSinceLastPromotion</th>\n",
              "      <th>YearsWithCurrManager</th>\n",
              "    </tr>\n",
              "  </thead>\n",
              "  <tbody>\n",
              "    <tr>\n",
              "      <th>1465</th>\n",
              "      <td>36</td>\n",
              "      <td>No</td>\n",
              "      <td>Travel_Frequently</td>\n",
              "      <td>884</td>\n",
              "      <td>Research &amp; Development</td>\n",
              "      <td>23</td>\n",
              "      <td>2</td>\n",
              "      <td>Medical</td>\n",
              "      <td>1</td>\n",
              "      <td>2061</td>\n",
              "      <td>...</td>\n",
              "      <td>3</td>\n",
              "      <td>80</td>\n",
              "      <td>1</td>\n",
              "      <td>17</td>\n",
              "      <td>3</td>\n",
              "      <td>3</td>\n",
              "      <td>5</td>\n",
              "      <td>2</td>\n",
              "      <td>0</td>\n",
              "      <td>3</td>\n",
              "    </tr>\n",
              "    <tr>\n",
              "      <th>1466</th>\n",
              "      <td>39</td>\n",
              "      <td>No</td>\n",
              "      <td>Travel_Rarely</td>\n",
              "      <td>613</td>\n",
              "      <td>Research &amp; Development</td>\n",
              "      <td>6</td>\n",
              "      <td>1</td>\n",
              "      <td>Medical</td>\n",
              "      <td>1</td>\n",
              "      <td>2062</td>\n",
              "      <td>...</td>\n",
              "      <td>1</td>\n",
              "      <td>80</td>\n",
              "      <td>1</td>\n",
              "      <td>9</td>\n",
              "      <td>5</td>\n",
              "      <td>3</td>\n",
              "      <td>7</td>\n",
              "      <td>7</td>\n",
              "      <td>1</td>\n",
              "      <td>7</td>\n",
              "    </tr>\n",
              "    <tr>\n",
              "      <th>1467</th>\n",
              "      <td>27</td>\n",
              "      <td>No</td>\n",
              "      <td>Travel_Rarely</td>\n",
              "      <td>155</td>\n",
              "      <td>Research &amp; Development</td>\n",
              "      <td>4</td>\n",
              "      <td>3</td>\n",
              "      <td>Life Sciences</td>\n",
              "      <td>1</td>\n",
              "      <td>2064</td>\n",
              "      <td>...</td>\n",
              "      <td>2</td>\n",
              "      <td>80</td>\n",
              "      <td>1</td>\n",
              "      <td>6</td>\n",
              "      <td>0</td>\n",
              "      <td>3</td>\n",
              "      <td>6</td>\n",
              "      <td>2</td>\n",
              "      <td>0</td>\n",
              "      <td>3</td>\n",
              "    </tr>\n",
              "    <tr>\n",
              "      <th>1468</th>\n",
              "      <td>49</td>\n",
              "      <td>No</td>\n",
              "      <td>Travel_Frequently</td>\n",
              "      <td>1023</td>\n",
              "      <td>Sales</td>\n",
              "      <td>2</td>\n",
              "      <td>3</td>\n",
              "      <td>Medical</td>\n",
              "      <td>1</td>\n",
              "      <td>2065</td>\n",
              "      <td>...</td>\n",
              "      <td>4</td>\n",
              "      <td>80</td>\n",
              "      <td>0</td>\n",
              "      <td>17</td>\n",
              "      <td>3</td>\n",
              "      <td>2</td>\n",
              "      <td>9</td>\n",
              "      <td>6</td>\n",
              "      <td>0</td>\n",
              "      <td>8</td>\n",
              "    </tr>\n",
              "    <tr>\n",
              "      <th>1469</th>\n",
              "      <td>34</td>\n",
              "      <td>No</td>\n",
              "      <td>Travel_Rarely</td>\n",
              "      <td>628</td>\n",
              "      <td>Research &amp; Development</td>\n",
              "      <td>8</td>\n",
              "      <td>3</td>\n",
              "      <td>Medical</td>\n",
              "      <td>1</td>\n",
              "      <td>2068</td>\n",
              "      <td>...</td>\n",
              "      <td>1</td>\n",
              "      <td>80</td>\n",
              "      <td>0</td>\n",
              "      <td>6</td>\n",
              "      <td>3</td>\n",
              "      <td>4</td>\n",
              "      <td>4</td>\n",
              "      <td>3</td>\n",
              "      <td>1</td>\n",
              "      <td>2</td>\n",
              "    </tr>\n",
              "  </tbody>\n",
              "</table>\n",
              "<p>5 rows × 35 columns</p>\n",
              "</div>\n",
              "      <button class=\"colab-df-convert\" onclick=\"convertToInteractive('df-b8147d69-805d-45b2-ab8d-89eb3fcec247')\"\n",
              "              title=\"Convert this dataframe to an interactive table.\"\n",
              "              style=\"display:none;\">\n",
              "        \n",
              "  <svg xmlns=\"http://www.w3.org/2000/svg\" height=\"24px\"viewBox=\"0 0 24 24\"\n",
              "       width=\"24px\">\n",
              "    <path d=\"M0 0h24v24H0V0z\" fill=\"none\"/>\n",
              "    <path d=\"M18.56 5.44l.94 2.06.94-2.06 2.06-.94-2.06-.94-.94-2.06-.94 2.06-2.06.94zm-11 1L8.5 8.5l.94-2.06 2.06-.94-2.06-.94L8.5 2.5l-.94 2.06-2.06.94zm10 10l.94 2.06.94-2.06 2.06-.94-2.06-.94-.94-2.06-.94 2.06-2.06.94z\"/><path d=\"M17.41 7.96l-1.37-1.37c-.4-.4-.92-.59-1.43-.59-.52 0-1.04.2-1.43.59L10.3 9.45l-7.72 7.72c-.78.78-.78 2.05 0 2.83L4 21.41c.39.39.9.59 1.41.59.51 0 1.02-.2 1.41-.59l7.78-7.78 2.81-2.81c.8-.78.8-2.07 0-2.86zM5.41 20L4 18.59l7.72-7.72 1.47 1.35L5.41 20z\"/>\n",
              "  </svg>\n",
              "      </button>\n",
              "      \n",
              "  <style>\n",
              "    .colab-df-container {\n",
              "      display:flex;\n",
              "      flex-wrap:wrap;\n",
              "      gap: 12px;\n",
              "    }\n",
              "\n",
              "    .colab-df-convert {\n",
              "      background-color: #E8F0FE;\n",
              "      border: none;\n",
              "      border-radius: 50%;\n",
              "      cursor: pointer;\n",
              "      display: none;\n",
              "      fill: #1967D2;\n",
              "      height: 32px;\n",
              "      padding: 0 0 0 0;\n",
              "      width: 32px;\n",
              "    }\n",
              "\n",
              "    .colab-df-convert:hover {\n",
              "      background-color: #E2EBFA;\n",
              "      box-shadow: 0px 1px 2px rgba(60, 64, 67, 0.3), 0px 1px 3px 1px rgba(60, 64, 67, 0.15);\n",
              "      fill: #174EA6;\n",
              "    }\n",
              "\n",
              "    [theme=dark] .colab-df-convert {\n",
              "      background-color: #3B4455;\n",
              "      fill: #D2E3FC;\n",
              "    }\n",
              "\n",
              "    [theme=dark] .colab-df-convert:hover {\n",
              "      background-color: #434B5C;\n",
              "      box-shadow: 0px 1px 3px 1px rgba(0, 0, 0, 0.15);\n",
              "      filter: drop-shadow(0px 1px 2px rgba(0, 0, 0, 0.3));\n",
              "      fill: #FFFFFF;\n",
              "    }\n",
              "  </style>\n",
              "\n",
              "      <script>\n",
              "        const buttonEl =\n",
              "          document.querySelector('#df-b8147d69-805d-45b2-ab8d-89eb3fcec247 button.colab-df-convert');\n",
              "        buttonEl.style.display =\n",
              "          google.colab.kernel.accessAllowed ? 'block' : 'none';\n",
              "\n",
              "        async function convertToInteractive(key) {\n",
              "          const element = document.querySelector('#df-b8147d69-805d-45b2-ab8d-89eb3fcec247');\n",
              "          const dataTable =\n",
              "            await google.colab.kernel.invokeFunction('convertToInteractive',\n",
              "                                                     [key], {});\n",
              "          if (!dataTable) return;\n",
              "\n",
              "          const docLinkHtml = 'Like what you see? Visit the ' +\n",
              "            '<a target=\"_blank\" href=https://colab.research.google.com/notebooks/data_table.ipynb>data table notebook</a>'\n",
              "            + ' to learn more about interactive tables.';\n",
              "          element.innerHTML = '';\n",
              "          dataTable['output_type'] = 'display_data';\n",
              "          await google.colab.output.renderOutput(dataTable, element);\n",
              "          const docLink = document.createElement('div');\n",
              "          docLink.innerHTML = docLinkHtml;\n",
              "          element.appendChild(docLink);\n",
              "        }\n",
              "      </script>\n",
              "    </div>\n",
              "  </div>\n",
              "  "
            ]
          },
          "metadata": {},
          "execution_count": 229
        }
      ]
    },
    {
      "cell_type": "code",
      "source": [
        "#Dimension del dataset Original\n",
        "print(dataFrameOriginal.shape)\n",
        "\n",
        "#El conjunto de datos contiene 1470 registros con 35 features cada uno. "
      ],
      "metadata": {
        "id": "YDQgljcNpp2q",
        "colab": {
          "base_uri": "https://localhost:8080/"
        },
        "outputId": "98cc39ad-b6e8-47c2-f7ce-ba738bde48ad"
      },
      "execution_count": null,
      "outputs": [
        {
          "output_type": "stream",
          "name": "stdout",
          "text": [
            "(1470, 35)\n"
          ]
        }
      ]
    },
    {
      "cell_type": "markdown",
      "source": [
        "### 2.3. Data Wrangling y Limpieza de dataframe"
      ],
      "metadata": {
        "id": "2gPoZwT3QFsg"
      }
    },
    {
      "cell_type": "code",
      "source": [
        "#Traducción de Columnas para mejor entendimiento del negocio\n",
        "\n",
        "dataFrame = dataFrameOriginal.rename(columns={'Age':'Edad', 'Attrition': 'Deserción', 'BusinessTravel': 'Viajes de negocios', 'Department': 'Departamento', 'DistanceFromHome': 'Distancia Desde Casa','Education': 'Educación', 'EducationField': 'Área de estudios', 'EmployeeCount': 'Número de empleados', 'EmployeeNumber': 'Número de empleado', 'EnvironmentSatisfaction': 'Satisfacción Ambiental', 'Gender': 'Género', 'HourlyRate': 'Tarifa por hora',  'DailyRate': 'Tarifa Diaria',  'MonthlyRate': 'Tarifa mensual', 'JobInvolvement': 'Participación en el trabajo', 'JobLevel': 'Nivel de trabajo', 'JobRole': 'Puesto de trabajo', 'JobSatisfaction': 'Satisfacción laboral', 'MaritalStatus': 'Estado civil', 'MonthlyIncome': 'Ingreso mensual', 'NumCompaniesWorked': 'Número de empresas trabajadas', 'Over18': 'Mayor de 18', 'OverTime': 'Tiempo extraordinario', 'PercentSalaryHike': 'Porcentaje de aumento de salario', 'PerformanceRating': 'Clasificación de Rendimiento', 'RelationshipSatisfaction': 'Satisfacción de la relación', 'StandardHours': 'Horas estándar',\n",
        " 'StockOptionLevel': 'Nivel de opciones de acciones', 'TotalWorkingYears': 'Total Años trabajados', 'TrainingTimesLastYear': 'Capacitaciones último año', 'WorkLifeBalance': 'Equilibrio trabajo-vida', 'YearsAtCompany': 'Años en la empresa', 'YearsInCurrentRole': 'Años en el rol actual', 'YearsSinceLastPromotion': 'Años desde la última promoción','YearsWithCurrManager': 'Años con el actual manager'\n",
        "})\n"
      ],
      "metadata": {
        "id": "oerlCvo0OUhw"
      },
      "execution_count": null,
      "outputs": []
    },
    {
      "cell_type": "markdown",
      "source": [
        "\n",
        "\n",
        "---\n",
        "\n"
      ],
      "metadata": {
        "id": "BVeRAgkNDpGF"
      }
    },
    {
      "cell_type": "code",
      "source": [
        "#Identificar los datos relevantes\n",
        "\n",
        "Nunique = dataFrame.nunique()\n",
        "Nunique = Nunique.sort_values()\n",
        "Nunique"
      ],
      "metadata": {
        "id": "Q3_4Pqa7Wjcy",
        "colab": {
          "base_uri": "https://localhost:8080/"
        },
        "outputId": "f899d5f5-5408-47ed-d288-cdcd3053c70a"
      },
      "execution_count": null,
      "outputs": [
        {
          "output_type": "execute_result",
          "data": {
            "text/plain": [
              "Mayor de 18                            1\n",
              "Horas estándar                         1\n",
              "Número de empleados                    1\n",
              "Género                                 2\n",
              "Deserción                              2\n",
              "Clasificación de Rendimiento           2\n",
              "Tiempo extraordinario                  2\n",
              "Estado civil                           3\n",
              "Departamento                           3\n",
              "Viajes de negocios                     3\n",
              "Nivel de opciones de acciones          4\n",
              "Satisfacción Ambiental                 4\n",
              "Participación en el trabajo            4\n",
              "Satisfacción laboral                   4\n",
              "Satisfacción de la relación            4\n",
              "Equilibrio trabajo-vida                4\n",
              "Educación                              5\n",
              "Nivel de trabajo                       5\n",
              "Área de estudios                       6\n",
              "Capacitaciones último año              7\n",
              "Puesto de trabajo                      9\n",
              "Número de empresas trabajadas         10\n",
              "Porcentaje de aumento de salario      15\n",
              "Años desde la última promoción        16\n",
              "Años con el actual manager            18\n",
              "Años en el rol actual                 19\n",
              "Distancia Desde Casa                  29\n",
              "Años en la empresa                    37\n",
              "Total Años trabajados                 40\n",
              "Edad                                  43\n",
              "Tarifa por hora                       71\n",
              "Tarifa Diaria                        886\n",
              "Ingreso mensual                     1349\n",
              "Tarifa mensual                      1427\n",
              "Número de empleado                  1470\n",
              "dtype: int64"
            ]
          },
          "metadata": {},
          "execution_count": 232
        }
      ]
    },
    {
      "cell_type": "code",
      "source": [
        "#se borran las columnas  'Número de empleados','Horas estándar','Mayor de 18'\n",
        "# por ser irrelevantes para el caso de estudio \n",
        "dataFrame.drop('Número de empleados', axis=1, inplace=True,errors = \"ignore\")    #tiene el mismo valor para todas las filas\n",
        "dataFrame.drop('Horas estándar', axis=1, inplace=True,errors = \"ignore\")  #tiene el mismo valor para todas las filas\n",
        "dataFrame.drop('Mayor de 18', axis=1, inplace=True,errors = \"ignore\")    #tiene el mismo valor para todas las filas\n",
        "dataFrame.drop('Número de empleado', axis=1, inplace=True,errors = \"ignore\") #tiene valor unico, es solo identificador\n"
      ],
      "metadata": {
        "id": "hyyw4saLbtmP"
      },
      "execution_count": null,
      "outputs": []
    },
    {
      "cell_type": "markdown",
      "source": [
        "## 3 . Análisis Exploratorio de datos. EDA"
      ],
      "metadata": {
        "id": "SMRFnknCRefD"
      }
    },
    {
      "cell_type": "markdown",
      "source": [
        "### 3.1  Análisis descriptivo "
      ],
      "metadata": {
        "id": "KYMQ5u3EznE3"
      }
    },
    {
      "cell_type": "code",
      "source": [
        "#analizamos las estadisticas de los datos\n",
        "dataFrame.describe().round(2).T"
      ],
      "metadata": {
        "id": "hRWcaPTPS1G7",
        "colab": {
          "base_uri": "https://localhost:8080/",
          "height": 770
        },
        "outputId": "ae4a6cb3-2fe0-42f3-b1ed-08b1f93f2a08"
      },
      "execution_count": null,
      "outputs": [
        {
          "output_type": "execute_result",
          "data": {
            "text/plain": [
              "                                   count      mean      std     min     25%  \\\n",
              "Edad                              1470.0     36.92     9.14    18.0    30.0   \n",
              "Tarifa Diaria                     1470.0    802.49   403.51   102.0   465.0   \n",
              "Distancia Desde Casa              1470.0      9.19     8.11     1.0     2.0   \n",
              "Educación                         1470.0      2.91     1.02     1.0     2.0   \n",
              "Satisfacción Ambiental            1470.0      2.72     1.09     1.0     2.0   \n",
              "Tarifa por hora                   1470.0     65.89    20.33    30.0    48.0   \n",
              "Participación en el trabajo       1470.0      2.73     0.71     1.0     2.0   \n",
              "Nivel de trabajo                  1470.0      2.06     1.11     1.0     1.0   \n",
              "Satisfacción laboral              1470.0      2.73     1.10     1.0     2.0   \n",
              "Ingreso mensual                   1470.0   6502.93  4707.96  1009.0  2911.0   \n",
              "Tarifa mensual                    1470.0  14313.10  7117.79  2094.0  8047.0   \n",
              "Número de empresas trabajadas     1470.0      2.69     2.50     0.0     1.0   \n",
              "Porcentaje de aumento de salario  1470.0     15.21     3.66    11.0    12.0   \n",
              "Clasificación de Rendimiento      1470.0      3.15     0.36     3.0     3.0   \n",
              "Satisfacción de la relación       1470.0      2.71     1.08     1.0     2.0   \n",
              "Nivel de opciones de acciones     1470.0      0.79     0.85     0.0     0.0   \n",
              "Total Años trabajados             1470.0     11.28     7.78     0.0     6.0   \n",
              "Capacitaciones último año         1470.0      2.80     1.29     0.0     2.0   \n",
              "Equilibrio trabajo-vida           1470.0      2.76     0.71     1.0     2.0   \n",
              "Años en la empresa                1470.0      7.01     6.13     0.0     3.0   \n",
              "Años en el rol actual             1470.0      4.23     3.62     0.0     2.0   \n",
              "Años desde la última promoción    1470.0      2.19     3.22     0.0     0.0   \n",
              "Años con el actual manager        1470.0      4.12     3.57     0.0     2.0   \n",
              "\n",
              "                                      50%       75%      max  \n",
              "Edad                                 36.0     43.00     60.0  \n",
              "Tarifa Diaria                       802.0   1157.00   1499.0  \n",
              "Distancia Desde Casa                  7.0     14.00     29.0  \n",
              "Educación                             3.0      4.00      5.0  \n",
              "Satisfacción Ambiental                3.0      4.00      4.0  \n",
              "Tarifa por hora                      66.0     83.75    100.0  \n",
              "Participación en el trabajo           3.0      3.00      4.0  \n",
              "Nivel de trabajo                      2.0      3.00      5.0  \n",
              "Satisfacción laboral                  3.0      4.00      4.0  \n",
              "Ingreso mensual                    4919.0   8379.00  19999.0  \n",
              "Tarifa mensual                    14235.5  20461.50  26999.0  \n",
              "Número de empresas trabajadas         2.0      4.00      9.0  \n",
              "Porcentaje de aumento de salario     14.0     18.00     25.0  \n",
              "Clasificación de Rendimiento          3.0      3.00      4.0  \n",
              "Satisfacción de la relación           3.0      4.00      4.0  \n",
              "Nivel de opciones de acciones         1.0      1.00      3.0  \n",
              "Total Años trabajados                10.0     15.00     40.0  \n",
              "Capacitaciones último año             3.0      3.00      6.0  \n",
              "Equilibrio trabajo-vida               3.0      3.00      4.0  \n",
              "Años en la empresa                    5.0      9.00     40.0  \n",
              "Años en el rol actual                 3.0      7.00     18.0  \n",
              "Años desde la última promoción        1.0      3.00     15.0  \n",
              "Años con el actual manager            3.0      7.00     17.0  "
            ],
            "text/html": [
              "\n",
              "  <div id=\"df-4d663681-576d-43e3-870a-fe213152c022\">\n",
              "    <div class=\"colab-df-container\">\n",
              "      <div>\n",
              "<style scoped>\n",
              "    .dataframe tbody tr th:only-of-type {\n",
              "        vertical-align: middle;\n",
              "    }\n",
              "\n",
              "    .dataframe tbody tr th {\n",
              "        vertical-align: top;\n",
              "    }\n",
              "\n",
              "    .dataframe thead th {\n",
              "        text-align: right;\n",
              "    }\n",
              "</style>\n",
              "<table border=\"1\" class=\"dataframe\">\n",
              "  <thead>\n",
              "    <tr style=\"text-align: right;\">\n",
              "      <th></th>\n",
              "      <th>count</th>\n",
              "      <th>mean</th>\n",
              "      <th>std</th>\n",
              "      <th>min</th>\n",
              "      <th>25%</th>\n",
              "      <th>50%</th>\n",
              "      <th>75%</th>\n",
              "      <th>max</th>\n",
              "    </tr>\n",
              "  </thead>\n",
              "  <tbody>\n",
              "    <tr>\n",
              "      <th>Edad</th>\n",
              "      <td>1470.0</td>\n",
              "      <td>36.92</td>\n",
              "      <td>9.14</td>\n",
              "      <td>18.0</td>\n",
              "      <td>30.0</td>\n",
              "      <td>36.0</td>\n",
              "      <td>43.00</td>\n",
              "      <td>60.0</td>\n",
              "    </tr>\n",
              "    <tr>\n",
              "      <th>Tarifa Diaria</th>\n",
              "      <td>1470.0</td>\n",
              "      <td>802.49</td>\n",
              "      <td>403.51</td>\n",
              "      <td>102.0</td>\n",
              "      <td>465.0</td>\n",
              "      <td>802.0</td>\n",
              "      <td>1157.00</td>\n",
              "      <td>1499.0</td>\n",
              "    </tr>\n",
              "    <tr>\n",
              "      <th>Distancia Desde Casa</th>\n",
              "      <td>1470.0</td>\n",
              "      <td>9.19</td>\n",
              "      <td>8.11</td>\n",
              "      <td>1.0</td>\n",
              "      <td>2.0</td>\n",
              "      <td>7.0</td>\n",
              "      <td>14.00</td>\n",
              "      <td>29.0</td>\n",
              "    </tr>\n",
              "    <tr>\n",
              "      <th>Educación</th>\n",
              "      <td>1470.0</td>\n",
              "      <td>2.91</td>\n",
              "      <td>1.02</td>\n",
              "      <td>1.0</td>\n",
              "      <td>2.0</td>\n",
              "      <td>3.0</td>\n",
              "      <td>4.00</td>\n",
              "      <td>5.0</td>\n",
              "    </tr>\n",
              "    <tr>\n",
              "      <th>Satisfacción Ambiental</th>\n",
              "      <td>1470.0</td>\n",
              "      <td>2.72</td>\n",
              "      <td>1.09</td>\n",
              "      <td>1.0</td>\n",
              "      <td>2.0</td>\n",
              "      <td>3.0</td>\n",
              "      <td>4.00</td>\n",
              "      <td>4.0</td>\n",
              "    </tr>\n",
              "    <tr>\n",
              "      <th>Tarifa por hora</th>\n",
              "      <td>1470.0</td>\n",
              "      <td>65.89</td>\n",
              "      <td>20.33</td>\n",
              "      <td>30.0</td>\n",
              "      <td>48.0</td>\n",
              "      <td>66.0</td>\n",
              "      <td>83.75</td>\n",
              "      <td>100.0</td>\n",
              "    </tr>\n",
              "    <tr>\n",
              "      <th>Participación en el trabajo</th>\n",
              "      <td>1470.0</td>\n",
              "      <td>2.73</td>\n",
              "      <td>0.71</td>\n",
              "      <td>1.0</td>\n",
              "      <td>2.0</td>\n",
              "      <td>3.0</td>\n",
              "      <td>3.00</td>\n",
              "      <td>4.0</td>\n",
              "    </tr>\n",
              "    <tr>\n",
              "      <th>Nivel de trabajo</th>\n",
              "      <td>1470.0</td>\n",
              "      <td>2.06</td>\n",
              "      <td>1.11</td>\n",
              "      <td>1.0</td>\n",
              "      <td>1.0</td>\n",
              "      <td>2.0</td>\n",
              "      <td>3.00</td>\n",
              "      <td>5.0</td>\n",
              "    </tr>\n",
              "    <tr>\n",
              "      <th>Satisfacción laboral</th>\n",
              "      <td>1470.0</td>\n",
              "      <td>2.73</td>\n",
              "      <td>1.10</td>\n",
              "      <td>1.0</td>\n",
              "      <td>2.0</td>\n",
              "      <td>3.0</td>\n",
              "      <td>4.00</td>\n",
              "      <td>4.0</td>\n",
              "    </tr>\n",
              "    <tr>\n",
              "      <th>Ingreso mensual</th>\n",
              "      <td>1470.0</td>\n",
              "      <td>6502.93</td>\n",
              "      <td>4707.96</td>\n",
              "      <td>1009.0</td>\n",
              "      <td>2911.0</td>\n",
              "      <td>4919.0</td>\n",
              "      <td>8379.00</td>\n",
              "      <td>19999.0</td>\n",
              "    </tr>\n",
              "    <tr>\n",
              "      <th>Tarifa mensual</th>\n",
              "      <td>1470.0</td>\n",
              "      <td>14313.10</td>\n",
              "      <td>7117.79</td>\n",
              "      <td>2094.0</td>\n",
              "      <td>8047.0</td>\n",
              "      <td>14235.5</td>\n",
              "      <td>20461.50</td>\n",
              "      <td>26999.0</td>\n",
              "    </tr>\n",
              "    <tr>\n",
              "      <th>Número de empresas trabajadas</th>\n",
              "      <td>1470.0</td>\n",
              "      <td>2.69</td>\n",
              "      <td>2.50</td>\n",
              "      <td>0.0</td>\n",
              "      <td>1.0</td>\n",
              "      <td>2.0</td>\n",
              "      <td>4.00</td>\n",
              "      <td>9.0</td>\n",
              "    </tr>\n",
              "    <tr>\n",
              "      <th>Porcentaje de aumento de salario</th>\n",
              "      <td>1470.0</td>\n",
              "      <td>15.21</td>\n",
              "      <td>3.66</td>\n",
              "      <td>11.0</td>\n",
              "      <td>12.0</td>\n",
              "      <td>14.0</td>\n",
              "      <td>18.00</td>\n",
              "      <td>25.0</td>\n",
              "    </tr>\n",
              "    <tr>\n",
              "      <th>Clasificación de Rendimiento</th>\n",
              "      <td>1470.0</td>\n",
              "      <td>3.15</td>\n",
              "      <td>0.36</td>\n",
              "      <td>3.0</td>\n",
              "      <td>3.0</td>\n",
              "      <td>3.0</td>\n",
              "      <td>3.00</td>\n",
              "      <td>4.0</td>\n",
              "    </tr>\n",
              "    <tr>\n",
              "      <th>Satisfacción de la relación</th>\n",
              "      <td>1470.0</td>\n",
              "      <td>2.71</td>\n",
              "      <td>1.08</td>\n",
              "      <td>1.0</td>\n",
              "      <td>2.0</td>\n",
              "      <td>3.0</td>\n",
              "      <td>4.00</td>\n",
              "      <td>4.0</td>\n",
              "    </tr>\n",
              "    <tr>\n",
              "      <th>Nivel de opciones de acciones</th>\n",
              "      <td>1470.0</td>\n",
              "      <td>0.79</td>\n",
              "      <td>0.85</td>\n",
              "      <td>0.0</td>\n",
              "      <td>0.0</td>\n",
              "      <td>1.0</td>\n",
              "      <td>1.00</td>\n",
              "      <td>3.0</td>\n",
              "    </tr>\n",
              "    <tr>\n",
              "      <th>Total Años trabajados</th>\n",
              "      <td>1470.0</td>\n",
              "      <td>11.28</td>\n",
              "      <td>7.78</td>\n",
              "      <td>0.0</td>\n",
              "      <td>6.0</td>\n",
              "      <td>10.0</td>\n",
              "      <td>15.00</td>\n",
              "      <td>40.0</td>\n",
              "    </tr>\n",
              "    <tr>\n",
              "      <th>Capacitaciones último año</th>\n",
              "      <td>1470.0</td>\n",
              "      <td>2.80</td>\n",
              "      <td>1.29</td>\n",
              "      <td>0.0</td>\n",
              "      <td>2.0</td>\n",
              "      <td>3.0</td>\n",
              "      <td>3.00</td>\n",
              "      <td>6.0</td>\n",
              "    </tr>\n",
              "    <tr>\n",
              "      <th>Equilibrio trabajo-vida</th>\n",
              "      <td>1470.0</td>\n",
              "      <td>2.76</td>\n",
              "      <td>0.71</td>\n",
              "      <td>1.0</td>\n",
              "      <td>2.0</td>\n",
              "      <td>3.0</td>\n",
              "      <td>3.00</td>\n",
              "      <td>4.0</td>\n",
              "    </tr>\n",
              "    <tr>\n",
              "      <th>Años en la empresa</th>\n",
              "      <td>1470.0</td>\n",
              "      <td>7.01</td>\n",
              "      <td>6.13</td>\n",
              "      <td>0.0</td>\n",
              "      <td>3.0</td>\n",
              "      <td>5.0</td>\n",
              "      <td>9.00</td>\n",
              "      <td>40.0</td>\n",
              "    </tr>\n",
              "    <tr>\n",
              "      <th>Años en el rol actual</th>\n",
              "      <td>1470.0</td>\n",
              "      <td>4.23</td>\n",
              "      <td>3.62</td>\n",
              "      <td>0.0</td>\n",
              "      <td>2.0</td>\n",
              "      <td>3.0</td>\n",
              "      <td>7.00</td>\n",
              "      <td>18.0</td>\n",
              "    </tr>\n",
              "    <tr>\n",
              "      <th>Años desde la última promoción</th>\n",
              "      <td>1470.0</td>\n",
              "      <td>2.19</td>\n",
              "      <td>3.22</td>\n",
              "      <td>0.0</td>\n",
              "      <td>0.0</td>\n",
              "      <td>1.0</td>\n",
              "      <td>3.00</td>\n",
              "      <td>15.0</td>\n",
              "    </tr>\n",
              "    <tr>\n",
              "      <th>Años con el actual manager</th>\n",
              "      <td>1470.0</td>\n",
              "      <td>4.12</td>\n",
              "      <td>3.57</td>\n",
              "      <td>0.0</td>\n",
              "      <td>2.0</td>\n",
              "      <td>3.0</td>\n",
              "      <td>7.00</td>\n",
              "      <td>17.0</td>\n",
              "    </tr>\n",
              "  </tbody>\n",
              "</table>\n",
              "</div>\n",
              "      <button class=\"colab-df-convert\" onclick=\"convertToInteractive('df-4d663681-576d-43e3-870a-fe213152c022')\"\n",
              "              title=\"Convert this dataframe to an interactive table.\"\n",
              "              style=\"display:none;\">\n",
              "        \n",
              "  <svg xmlns=\"http://www.w3.org/2000/svg\" height=\"24px\"viewBox=\"0 0 24 24\"\n",
              "       width=\"24px\">\n",
              "    <path d=\"M0 0h24v24H0V0z\" fill=\"none\"/>\n",
              "    <path d=\"M18.56 5.44l.94 2.06.94-2.06 2.06-.94-2.06-.94-.94-2.06-.94 2.06-2.06.94zm-11 1L8.5 8.5l.94-2.06 2.06-.94-2.06-.94L8.5 2.5l-.94 2.06-2.06.94zm10 10l.94 2.06.94-2.06 2.06-.94-2.06-.94-.94-2.06-.94 2.06-2.06.94z\"/><path d=\"M17.41 7.96l-1.37-1.37c-.4-.4-.92-.59-1.43-.59-.52 0-1.04.2-1.43.59L10.3 9.45l-7.72 7.72c-.78.78-.78 2.05 0 2.83L4 21.41c.39.39.9.59 1.41.59.51 0 1.02-.2 1.41-.59l7.78-7.78 2.81-2.81c.8-.78.8-2.07 0-2.86zM5.41 20L4 18.59l7.72-7.72 1.47 1.35L5.41 20z\"/>\n",
              "  </svg>\n",
              "      </button>\n",
              "      \n",
              "  <style>\n",
              "    .colab-df-container {\n",
              "      display:flex;\n",
              "      flex-wrap:wrap;\n",
              "      gap: 12px;\n",
              "    }\n",
              "\n",
              "    .colab-df-convert {\n",
              "      background-color: #E8F0FE;\n",
              "      border: none;\n",
              "      border-radius: 50%;\n",
              "      cursor: pointer;\n",
              "      display: none;\n",
              "      fill: #1967D2;\n",
              "      height: 32px;\n",
              "      padding: 0 0 0 0;\n",
              "      width: 32px;\n",
              "    }\n",
              "\n",
              "    .colab-df-convert:hover {\n",
              "      background-color: #E2EBFA;\n",
              "      box-shadow: 0px 1px 2px rgba(60, 64, 67, 0.3), 0px 1px 3px 1px rgba(60, 64, 67, 0.15);\n",
              "      fill: #174EA6;\n",
              "    }\n",
              "\n",
              "    [theme=dark] .colab-df-convert {\n",
              "      background-color: #3B4455;\n",
              "      fill: #D2E3FC;\n",
              "    }\n",
              "\n",
              "    [theme=dark] .colab-df-convert:hover {\n",
              "      background-color: #434B5C;\n",
              "      box-shadow: 0px 1px 3px 1px rgba(0, 0, 0, 0.15);\n",
              "      filter: drop-shadow(0px 1px 2px rgba(0, 0, 0, 0.3));\n",
              "      fill: #FFFFFF;\n",
              "    }\n",
              "  </style>\n",
              "\n",
              "      <script>\n",
              "        const buttonEl =\n",
              "          document.querySelector('#df-4d663681-576d-43e3-870a-fe213152c022 button.colab-df-convert');\n",
              "        buttonEl.style.display =\n",
              "          google.colab.kernel.accessAllowed ? 'block' : 'none';\n",
              "\n",
              "        async function convertToInteractive(key) {\n",
              "          const element = document.querySelector('#df-4d663681-576d-43e3-870a-fe213152c022');\n",
              "          const dataTable =\n",
              "            await google.colab.kernel.invokeFunction('convertToInteractive',\n",
              "                                                     [key], {});\n",
              "          if (!dataTable) return;\n",
              "\n",
              "          const docLinkHtml = 'Like what you see? Visit the ' +\n",
              "            '<a target=\"_blank\" href=https://colab.research.google.com/notebooks/data_table.ipynb>data table notebook</a>'\n",
              "            + ' to learn more about interactive tables.';\n",
              "          element.innerHTML = '';\n",
              "          dataTable['output_type'] = 'display_data';\n",
              "          await google.colab.output.renderOutput(dataTable, element);\n",
              "          const docLink = document.createElement('div');\n",
              "          docLink.innerHTML = docLinkHtml;\n",
              "          element.appendChild(docLink);\n",
              "        }\n",
              "      </script>\n",
              "    </div>\n",
              "  </div>\n",
              "  "
            ]
          },
          "metadata": {},
          "execution_count": 234
        }
      ]
    },
    {
      "cell_type": "code",
      "source": [
        "#Nombre de los atributos\n",
        "dataFrame.columns"
      ],
      "metadata": {
        "id": "1BRNDVpCp0rP",
        "colab": {
          "base_uri": "https://localhost:8080/"
        },
        "outputId": "27c6bea9-8076-4ca1-8c9a-b81ae611ab6e"
      },
      "execution_count": null,
      "outputs": [
        {
          "output_type": "execute_result",
          "data": {
            "text/plain": [
              "Index(['Edad', 'Deserción', 'Viajes de negocios', 'Tarifa Diaria',\n",
              "       'Departamento', 'Distancia Desde Casa', 'Educación', 'Área de estudios',\n",
              "       'Satisfacción Ambiental', 'Género', 'Tarifa por hora',\n",
              "       'Participación en el trabajo', 'Nivel de trabajo', 'Puesto de trabajo',\n",
              "       'Satisfacción laboral', 'Estado civil', 'Ingreso mensual',\n",
              "       'Tarifa mensual', 'Número de empresas trabajadas',\n",
              "       'Tiempo extraordinario', 'Porcentaje de aumento de salario',\n",
              "       'Clasificación de Rendimiento', 'Satisfacción de la relación',\n",
              "       'Nivel de opciones de acciones', 'Total Años trabajados',\n",
              "       'Capacitaciones último año', 'Equilibrio trabajo-vida',\n",
              "       'Años en la empresa', 'Años en el rol actual',\n",
              "       'Años desde la última promoción', 'Años con el actual manager'],\n",
              "      dtype='object')"
            ]
          },
          "metadata": {},
          "execution_count": 235
        }
      ]
    },
    {
      "cell_type": "code",
      "source": [
        "#Tipo de dato para cada columna\n",
        "dataFrame.dtypes"
      ],
      "metadata": {
        "id": "W82qecxgqAvG",
        "colab": {
          "base_uri": "https://localhost:8080/"
        },
        "outputId": "5b6c178e-ad83-4df1-d1ff-de01bc07dff5"
      },
      "execution_count": null,
      "outputs": [
        {
          "output_type": "execute_result",
          "data": {
            "text/plain": [
              "Edad                                 int64\n",
              "Deserción                           object\n",
              "Viajes de negocios                  object\n",
              "Tarifa Diaria                        int64\n",
              "Departamento                        object\n",
              "Distancia Desde Casa                 int64\n",
              "Educación                            int64\n",
              "Área de estudios                    object\n",
              "Satisfacción Ambiental               int64\n",
              "Género                              object\n",
              "Tarifa por hora                      int64\n",
              "Participación en el trabajo          int64\n",
              "Nivel de trabajo                     int64\n",
              "Puesto de trabajo                   object\n",
              "Satisfacción laboral                 int64\n",
              "Estado civil                        object\n",
              "Ingreso mensual                      int64\n",
              "Tarifa mensual                       int64\n",
              "Número de empresas trabajadas        int64\n",
              "Tiempo extraordinario               object\n",
              "Porcentaje de aumento de salario     int64\n",
              "Clasificación de Rendimiento         int64\n",
              "Satisfacción de la relación          int64\n",
              "Nivel de opciones de acciones        int64\n",
              "Total Años trabajados                int64\n",
              "Capacitaciones último año            int64\n",
              "Equilibrio trabajo-vida              int64\n",
              "Años en la empresa                   int64\n",
              "Años en el rol actual                int64\n",
              "Años desde la última promoción       int64\n",
              "Años con el actual manager           int64\n",
              "dtype: object"
            ]
          },
          "metadata": {},
          "execution_count": 236
        }
      ]
    },
    {
      "cell_type": "markdown",
      "source": [
        "### 3.2. Ajuste de tipos de variables"
      ],
      "metadata": {
        "id": "nItSbqkUz92e"
      }
    },
    {
      "cell_type": "code",
      "source": [
        "#Transformamos datos, columnas no-numéricas por columnas numéricas\n",
        "from sklearn.preprocessing import LabelEncoder\n",
        "\n",
        "for column in dataFrame.columns:\n",
        "  if (column==\"Edad\") :  \n",
        "    continue\n",
        "  dataFrame[column] = LabelEncoder().fit_transform(dataFrame[column])\n",
        "\n",
        " "
      ],
      "metadata": {
        "id": "0gLeYc8deK-z"
      },
      "execution_count": null,
      "outputs": []
    },
    {
      "cell_type": "markdown",
      "source": [
        "### 3.3. Detección y tratamiento de datos ausentes"
      ],
      "metadata": {
        "id": "DcwtEVcT0j-g"
      }
    },
    {
      "cell_type": "code",
      "source": [
        "dataFrame.count()"
      ],
      "metadata": {
        "id": "XkfyL1csqPwm",
        "colab": {
          "base_uri": "https://localhost:8080/"
        },
        "outputId": "32b85b26-83d6-4289-818d-7c1931da3343"
      },
      "execution_count": null,
      "outputs": [
        {
          "output_type": "execute_result",
          "data": {
            "text/plain": [
              "Edad                                1470\n",
              "Deserción                           1470\n",
              "Viajes de negocios                  1470\n",
              "Tarifa Diaria                       1470\n",
              "Departamento                        1470\n",
              "Distancia Desde Casa                1470\n",
              "Educación                           1470\n",
              "Área de estudios                    1470\n",
              "Satisfacción Ambiental              1470\n",
              "Género                              1470\n",
              "Tarifa por hora                     1470\n",
              "Participación en el trabajo         1470\n",
              "Nivel de trabajo                    1470\n",
              "Puesto de trabajo                   1470\n",
              "Satisfacción laboral                1470\n",
              "Estado civil                        1470\n",
              "Ingreso mensual                     1470\n",
              "Tarifa mensual                      1470\n",
              "Número de empresas trabajadas       1470\n",
              "Tiempo extraordinario               1470\n",
              "Porcentaje de aumento de salario    1470\n",
              "Clasificación de Rendimiento        1470\n",
              "Satisfacción de la relación         1470\n",
              "Nivel de opciones de acciones       1470\n",
              "Total Años trabajados               1470\n",
              "Capacitaciones último año           1470\n",
              "Equilibrio trabajo-vida             1470\n",
              "Años en la empresa                  1470\n",
              "Años en el rol actual               1470\n",
              "Años desde la última promoción      1470\n",
              "Años con el actual manager          1470\n",
              "dtype: int64"
            ]
          },
          "metadata": {},
          "execution_count": 238
        }
      ]
    },
    {
      "cell_type": "code",
      "source": [
        "#Analizar la completitud en los datos\n",
        "dataFrame.info()"
      ],
      "metadata": {
        "id": "6Luxr9XsolI8",
        "colab": {
          "base_uri": "https://localhost:8080/"
        },
        "outputId": "a8f07e2f-e019-42d7-b27c-5ceef2be6576"
      },
      "execution_count": null,
      "outputs": [
        {
          "output_type": "stream",
          "name": "stdout",
          "text": [
            "<class 'pandas.core.frame.DataFrame'>\n",
            "RangeIndex: 1470 entries, 0 to 1469\n",
            "Data columns (total 31 columns):\n",
            " #   Column                            Non-Null Count  Dtype\n",
            "---  ------                            --------------  -----\n",
            " 0   Edad                              1470 non-null   int64\n",
            " 1   Deserción                         1470 non-null   int64\n",
            " 2   Viajes de negocios                1470 non-null   int64\n",
            " 3   Tarifa Diaria                     1470 non-null   int64\n",
            " 4   Departamento                      1470 non-null   int64\n",
            " 5   Distancia Desde Casa              1470 non-null   int64\n",
            " 6   Educación                         1470 non-null   int64\n",
            " 7   Área de estudios                  1470 non-null   int64\n",
            " 8   Satisfacción Ambiental            1470 non-null   int64\n",
            " 9   Género                            1470 non-null   int64\n",
            " 10  Tarifa por hora                   1470 non-null   int64\n",
            " 11  Participación en el trabajo       1470 non-null   int64\n",
            " 12  Nivel de trabajo                  1470 non-null   int64\n",
            " 13  Puesto de trabajo                 1470 non-null   int64\n",
            " 14  Satisfacción laboral              1470 non-null   int64\n",
            " 15  Estado civil                      1470 non-null   int64\n",
            " 16  Ingreso mensual                   1470 non-null   int64\n",
            " 17  Tarifa mensual                    1470 non-null   int64\n",
            " 18  Número de empresas trabajadas     1470 non-null   int64\n",
            " 19  Tiempo extraordinario             1470 non-null   int64\n",
            " 20  Porcentaje de aumento de salario  1470 non-null   int64\n",
            " 21  Clasificación de Rendimiento      1470 non-null   int64\n",
            " 22  Satisfacción de la relación       1470 non-null   int64\n",
            " 23  Nivel de opciones de acciones     1470 non-null   int64\n",
            " 24  Total Años trabajados             1470 non-null   int64\n",
            " 25  Capacitaciones último año         1470 non-null   int64\n",
            " 26  Equilibrio trabajo-vida           1470 non-null   int64\n",
            " 27  Años en la empresa                1470 non-null   int64\n",
            " 28  Años en el rol actual             1470 non-null   int64\n",
            " 29  Años desde la última promoción    1470 non-null   int64\n",
            " 30  Años con el actual manager        1470 non-null   int64\n",
            "dtypes: int64(31)\n",
            "memory usage: 356.1 KB\n"
          ]
        }
      ]
    },
    {
      "cell_type": "code",
      "source": [
        "#no hay datos ausentes en el dataset ni \"sucios\""
      ],
      "metadata": {
        "id": "Ygqff7WF73Uk"
      },
      "execution_count": null,
      "outputs": []
    },
    {
      "cell_type": "markdown",
      "source": [
        "### 3.4. Identificación de datos atípicos"
      ],
      "metadata": {
        "id": "rQ-lMzMX302j"
      }
    },
    {
      "cell_type": "markdown",
      "source": [
        "### 3.5. Distribución de datos"
      ],
      "metadata": {
        "id": "DA1jxX5Q1XIR"
      }
    },
    {
      "cell_type": "markdown",
      "source": [
        "#### Análisis univariado"
      ],
      "metadata": {
        "id": "sVI1KrI-Vjyu"
      }
    },
    {
      "cell_type": "markdown",
      "source": [
        "##### Deserción"
      ],
      "metadata": {
        "id": "kg-_vxvzQbmy"
      }
    },
    {
      "cell_type": "code",
      "source": [
        "#buscamos la cantidad de empleados que se quedan y dejan  \n",
        "dataFrame[\"ID\"] = dataFrame.index + 1 #AUX\n",
        "df_aux = dataFrame[[\"ID\", \"Deserción\"]].groupby([\"Deserción\"]).count()\n",
        "df_aux[\"%\"] = df_aux[\"ID\"].apply(lambda x: x*100/dataFrame[\"ID\"].count())\n",
        "df_aux\n",
        "# 0 dejan, 1 quedan"
      ],
      "metadata": {
        "id": "vY1ayaXTy_Vv",
        "colab": {
          "base_uri": "https://localhost:8080/"
        },
        "outputId": "42bb701c-4006-4c6b-e4af-036da5e707bd"
      },
      "execution_count": null,
      "outputs": [
        {
          "output_type": "execute_result",
          "data": {
            "text/plain": [
              "             ID          %\n",
              "Deserción                 \n",
              "0          1233  83.877551\n",
              "1           237  16.122449"
            ],
            "text/html": [
              "\n",
              "  <div id=\"df-1444ed6f-5c58-4d8f-a768-9c94c7c24522\">\n",
              "    <div class=\"colab-df-container\">\n",
              "      <div>\n",
              "<style scoped>\n",
              "    .dataframe tbody tr th:only-of-type {\n",
              "        vertical-align: middle;\n",
              "    }\n",
              "\n",
              "    .dataframe tbody tr th {\n",
              "        vertical-align: top;\n",
              "    }\n",
              "\n",
              "    .dataframe thead th {\n",
              "        text-align: right;\n",
              "    }\n",
              "</style>\n",
              "<table border=\"1\" class=\"dataframe\">\n",
              "  <thead>\n",
              "    <tr style=\"text-align: right;\">\n",
              "      <th></th>\n",
              "      <th>ID</th>\n",
              "      <th>%</th>\n",
              "    </tr>\n",
              "    <tr>\n",
              "      <th>Deserción</th>\n",
              "      <th></th>\n",
              "      <th></th>\n",
              "    </tr>\n",
              "  </thead>\n",
              "  <tbody>\n",
              "    <tr>\n",
              "      <th>0</th>\n",
              "      <td>1233</td>\n",
              "      <td>83.877551</td>\n",
              "    </tr>\n",
              "    <tr>\n",
              "      <th>1</th>\n",
              "      <td>237</td>\n",
              "      <td>16.122449</td>\n",
              "    </tr>\n",
              "  </tbody>\n",
              "</table>\n",
              "</div>\n",
              "      <button class=\"colab-df-convert\" onclick=\"convertToInteractive('df-1444ed6f-5c58-4d8f-a768-9c94c7c24522')\"\n",
              "              title=\"Convert this dataframe to an interactive table.\"\n",
              "              style=\"display:none;\">\n",
              "        \n",
              "  <svg xmlns=\"http://www.w3.org/2000/svg\" height=\"24px\"viewBox=\"0 0 24 24\"\n",
              "       width=\"24px\">\n",
              "    <path d=\"M0 0h24v24H0V0z\" fill=\"none\"/>\n",
              "    <path d=\"M18.56 5.44l.94 2.06.94-2.06 2.06-.94-2.06-.94-.94-2.06-.94 2.06-2.06.94zm-11 1L8.5 8.5l.94-2.06 2.06-.94-2.06-.94L8.5 2.5l-.94 2.06-2.06.94zm10 10l.94 2.06.94-2.06 2.06-.94-2.06-.94-.94-2.06-.94 2.06-2.06.94z\"/><path d=\"M17.41 7.96l-1.37-1.37c-.4-.4-.92-.59-1.43-.59-.52 0-1.04.2-1.43.59L10.3 9.45l-7.72 7.72c-.78.78-.78 2.05 0 2.83L4 21.41c.39.39.9.59 1.41.59.51 0 1.02-.2 1.41-.59l7.78-7.78 2.81-2.81c.8-.78.8-2.07 0-2.86zM5.41 20L4 18.59l7.72-7.72 1.47 1.35L5.41 20z\"/>\n",
              "  </svg>\n",
              "      </button>\n",
              "      \n",
              "  <style>\n",
              "    .colab-df-container {\n",
              "      display:flex;\n",
              "      flex-wrap:wrap;\n",
              "      gap: 12px;\n",
              "    }\n",
              "\n",
              "    .colab-df-convert {\n",
              "      background-color: #E8F0FE;\n",
              "      border: none;\n",
              "      border-radius: 50%;\n",
              "      cursor: pointer;\n",
              "      display: none;\n",
              "      fill: #1967D2;\n",
              "      height: 32px;\n",
              "      padding: 0 0 0 0;\n",
              "      width: 32px;\n",
              "    }\n",
              "\n",
              "    .colab-df-convert:hover {\n",
              "      background-color: #E2EBFA;\n",
              "      box-shadow: 0px 1px 2px rgba(60, 64, 67, 0.3), 0px 1px 3px 1px rgba(60, 64, 67, 0.15);\n",
              "      fill: #174EA6;\n",
              "    }\n",
              "\n",
              "    [theme=dark] .colab-df-convert {\n",
              "      background-color: #3B4455;\n",
              "      fill: #D2E3FC;\n",
              "    }\n",
              "\n",
              "    [theme=dark] .colab-df-convert:hover {\n",
              "      background-color: #434B5C;\n",
              "      box-shadow: 0px 1px 3px 1px rgba(0, 0, 0, 0.15);\n",
              "      filter: drop-shadow(0px 1px 2px rgba(0, 0, 0, 0.3));\n",
              "      fill: #FFFFFF;\n",
              "    }\n",
              "  </style>\n",
              "\n",
              "      <script>\n",
              "        const buttonEl =\n",
              "          document.querySelector('#df-1444ed6f-5c58-4d8f-a768-9c94c7c24522 button.colab-df-convert');\n",
              "        buttonEl.style.display =\n",
              "          google.colab.kernel.accessAllowed ? 'block' : 'none';\n",
              "\n",
              "        async function convertToInteractive(key) {\n",
              "          const element = document.querySelector('#df-1444ed6f-5c58-4d8f-a768-9c94c7c24522');\n",
              "          const dataTable =\n",
              "            await google.colab.kernel.invokeFunction('convertToInteractive',\n",
              "                                                     [key], {});\n",
              "          if (!dataTable) return;\n",
              "\n",
              "          const docLinkHtml = 'Like what you see? Visit the ' +\n",
              "            '<a target=\"_blank\" href=https://colab.research.google.com/notebooks/data_table.ipynb>data table notebook</a>'\n",
              "            + ' to learn more about interactive tables.';\n",
              "          element.innerHTML = '';\n",
              "          dataTable['output_type'] = 'display_data';\n",
              "          await google.colab.output.renderOutput(dataTable, element);\n",
              "          const docLink = document.createElement('div');\n",
              "          docLink.innerHTML = docLinkHtml;\n",
              "          element.appendChild(docLink);\n",
              "        }\n",
              "      </script>\n",
              "    </div>\n",
              "  </div>\n",
              "  "
            ]
          },
          "metadata": {},
          "execution_count": 241
        }
      ]
    },
    {
      "cell_type": "code",
      "source": [
        " #visualización la cantidad de empleados que se quedan y abandonan la empresa\n",
        " \n",
        "fig, ax = plt.subplots(figsize=(6, 6))\n",
        "sns.countplot(x=dataFrame['Deserción'], palette=\"Blues\")"
      ],
      "metadata": {
        "id": "SJTI2fCjnKYf",
        "colab": {
          "base_uri": "https://localhost:8080/"
        },
        "outputId": "5d2e72a4-a90e-4df4-db02-5f6a3e5bbf2e"
      },
      "execution_count": null,
      "outputs": [
        {
          "output_type": "execute_result",
          "data": {
            "text/plain": [
              "<matplotlib.axes._subplots.AxesSubplot at 0x7fd53b60de10>"
            ]
          },
          "metadata": {},
          "execution_count": 242
        },
        {
          "output_type": "display_data",
          "data": {
            "text/plain": [
              "<Figure size 432x432 with 1 Axes>"
            ],
            "image/png": "[encoded data removed]"
          },
          "metadata": {}
        }
      ]
    },
    {
      "cell_type": "markdown",
      "source": [
        "Nuestra variable target **Deserción** está desbalanceada"
      ],
      "metadata": {
        "id": "tAHfuBKcKNql"
      }
    },
    {
      "cell_type": "markdown",
      "source": [
        "##### Género"
      ],
      "metadata": {
        "id": "5qLMTZ5EQjvZ"
      }
    },
    {
      "cell_type": "code",
      "source": [
        "print(f\"Aproximadamente el \",round(dataFrame['Género'].replace({'Hombres': 1, 'Mujeres': 0}).mean(), 3) * 100,\"% de los empleados son hombres\")\n",
        " "
      ],
      "metadata": {
        "id": "mXVnAODpau0L",
        "colab": {
          "base_uri": "https://localhost:8080/"
        },
        "outputId": "9cbba76c-6103-49f7-ba99-393bea967dd8"
      },
      "execution_count": null,
      "outputs": [
        {
          "output_type": "stream",
          "name": "stdout",
          "text": [
            "Aproximadamente el  60.0 % de los empleados son hombres\n"
          ]
        }
      ]
    },
    {
      "cell_type": "markdown",
      "source": [
        "##### Edades"
      ],
      "metadata": {
        "id": "sqoH4HypQ0GG"
      }
    },
    {
      "cell_type": "code",
      "source": [
        "plt.figure(figsize=(6,6))\n",
        "hist = sns.histplot(data=dataFrame, x=\"Edad\", kde=True)\n",
        "hist.axes.set_title(\"Distribución de edades de empleados\",fontsize=10, pad=10)\n",
        "hist.set_xlabel(\"Edad\",fontsize=16)\n",
        "hist.set_ylabel(\"Count\",fontsize=16)\n",
        "hist.tick_params(labelsize=15)"
      ],
      "metadata": {
        "colab": {
          "base_uri": "https://localhost:8080/"
        },
        "id": "1pJjHQ7BQ3bX",
        "outputId": "49b09e68-0dc0-4a81-c392-cc5a13b35a54"
      },
      "execution_count": null,
      "outputs": [
        {
          "output_type": "display_data",
          "data": {
            "text/plain": [
              "<Figure size 432x432 with 1 Axes>"
            ],
            "image/png": "[encoded data removed]"
          },
          "metadata": {}
        }
      ]
    },
    {
      "cell_type": "markdown",
      "source": [
        "#### Conclusiones del análisis univariado"
      ],
      "metadata": {
        "id": "KFw6uTW05NSz"
      }
    },
    {
      "cell_type": "markdown",
      "source": [
        "De los 1470, 237 renunciaron (deserción o desgaste), esto puede ser muy bueno o no, dependiendo la industria.  Lo que nosotros trataremos de predecir es si una persona renunciará o no de acuerdo a sus características.\n",
        "Nuestra variable target toma como valor NO para el 84% de nuestros empleados y SI (o yes  ó 1) para el 16%. \n",
        "\n",
        "\n",
        "**Estamos frente a un problema de Clase desbalanceada.**\n",
        "\n",
        "Por otra parte, esta empresa consta de un 40 % de mano de obra femenina y la distribución de las edades están alrededor de la media 36.92  y es similar a la normal"
      ],
      "metadata": {
        "id": "6IvjJTHrIz7F"
      }
    },
    {
      "cell_type": "markdown",
      "source": [
        "#### Análisis bivariado"
      ],
      "metadata": {
        "id": "r9H4zbGvVnL6"
      }
    },
    {
      "cell_type": "markdown",
      "source": [
        "##### Departamento -Satisfacción laboral"
      ],
      "metadata": {
        "id": "Sm24G_pibkCC"
      }
    },
    {
      "cell_type": "code",
      "source": [
        "#Análisis bivariado\n",
        "#Boxplot\n",
        "plt.figure(figsize=(6,6)) #defino el tamaño del grafico\n",
        "sns.boxplot(x = 'Departamento', y = 'Satisfacción laboral', data = dataFrame)\n",
        "plt.show()"
      ],
      "metadata": {
        "id": "RG7oQRLj6K6U",
        "colab": {
          "base_uri": "https://localhost:8080/"
        },
        "outputId": "bf76535d-9d74-48c3-e964-2a972c989ca2"
      },
      "execution_count": null,
      "outputs": [
        {
          "output_type": "display_data",
          "data": {
            "text/plain": [
              "<Figure size 432x432 with 1 Axes>"
            ],
            "image/png": "[encoded data removed]"
          },
          "metadata": {}
        }
      ]
    },
    {
      "cell_type": "markdown",
      "source": [
        "##### Departamento -Satisfacción Ambiental"
      ],
      "metadata": {
        "id": "6qt7YjTkbsU8"
      }
    },
    {
      "cell_type": "code",
      "source": [
        "plt.figure(figsize=(6,6)) #defino el tamaño del grafico\n",
        "sns.boxplot(x = 'Departamento', y = 'Satisfacción Ambiental', data = dataFrame)\n",
        "plt.show()"
      ],
      "metadata": {
        "id": "qkjF8y-b8_hV",
        "colab": {
          "base_uri": "https://localhost:8080/"
        },
        "outputId": "d83c4c5a-7c41-4628-ff9e-2f1ea7b9592c"
      },
      "execution_count": null,
      "outputs": [
        {
          "output_type": "display_data",
          "data": {
            "text/plain": [
              "<Figure size 432x432 with 1 Axes>"
            ],
            "image/png": "[encoded data removed]"
          },
          "metadata": {}
        }
      ]
    },
    {
      "cell_type": "code",
      "source": [
        "satisfaccion = dataFrame.groupby(['Departamento']).mean()[['Satisfacción Ambiental', 'Satisfacción laboral']]\n",
        "satisfaccion"
      ],
      "metadata": {
        "id": "VX6vW7y19nJ2",
        "colab": {
          "base_uri": "https://localhost:8080/"
        },
        "outputId": "ee7ce08a-3a8d-4dea-8cb4-9d3188f2a342"
      },
      "execution_count": null,
      "outputs": [
        {
          "output_type": "execute_result",
          "data": {
            "text/plain": [
              "              Satisfacción Ambiental  Satisfacción laboral\n",
              "Departamento                                              \n",
              "0                           1.682540              1.603175\n",
              "1                           1.744017              1.726327\n",
              "2                           1.679372              1.751121"
            ],
            "text/html": [
              "\n",
              "  <div id=\"df-8096e675-3f72-4a07-8e60-c7ed91f529a4\">\n",
              "    <div class=\"colab-df-container\">\n",
              "      <div>\n",
              "<style scoped>\n",
              "    .dataframe tbody tr th:only-of-type {\n",
              "        vertical-align: middle;\n",
              "    }\n",
              "\n",
              "    .dataframe tbody tr th {\n",
              "        vertical-align: top;\n",
              "    }\n",
              "\n",
              "    .dataframe thead th {\n",
              "        text-align: right;\n",
              "    }\n",
              "</style>\n",
              "<table border=\"1\" class=\"dataframe\">\n",
              "  <thead>\n",
              "    <tr style=\"text-align: right;\">\n",
              "      <th></th>\n",
              "      <th>Satisfacción Ambiental</th>\n",
              "      <th>Satisfacción laboral</th>\n",
              "    </tr>\n",
              "    <tr>\n",
              "      <th>Departamento</th>\n",
              "      <th></th>\n",
              "      <th></th>\n",
              "    </tr>\n",
              "  </thead>\n",
              "  <tbody>\n",
              "    <tr>\n",
              "      <th>0</th>\n",
              "      <td>1.682540</td>\n",
              "      <td>1.603175</td>\n",
              "    </tr>\n",
              "    <tr>\n",
              "      <th>1</th>\n",
              "      <td>1.744017</td>\n",
              "      <td>1.726327</td>\n",
              "    </tr>\n",
              "    <tr>\n",
              "      <th>2</th>\n",
              "      <td>1.679372</td>\n",
              "      <td>1.751121</td>\n",
              "    </tr>\n",
              "  </tbody>\n",
              "</table>\n",
              "</div>\n",
              "      <button class=\"colab-df-convert\" onclick=\"convertToInteractive('df-8096e675-3f72-4a07-8e60-c7ed91f529a4')\"\n",
              "              title=\"Convert this dataframe to an interactive table.\"\n",
              "              style=\"display:none;\">\n",
              "        \n",
              "  <svg xmlns=\"http://www.w3.org/2000/svg\" height=\"24px\"viewBox=\"0 0 24 24\"\n",
              "       width=\"24px\">\n",
              "    <path d=\"M0 0h24v24H0V0z\" fill=\"none\"/>\n",
              "    <path d=\"M18.56 5.44l.94 2.06.94-2.06 2.06-.94-2.06-.94-.94-2.06-.94 2.06-2.06.94zm-11 1L8.5 8.5l.94-2.06 2.06-.94-2.06-.94L8.5 2.5l-.94 2.06-2.06.94zm10 10l.94 2.06.94-2.06 2.06-.94-2.06-.94-.94-2.06-.94 2.06-2.06.94z\"/><path d=\"M17.41 7.96l-1.37-1.37c-.4-.4-.92-.59-1.43-.59-.52 0-1.04.2-1.43.59L10.3 9.45l-7.72 7.72c-.78.78-.78 2.05 0 2.83L4 21.41c.39.39.9.59 1.41.59.51 0 1.02-.2 1.41-.59l7.78-7.78 2.81-2.81c.8-.78.8-2.07 0-2.86zM5.41 20L4 18.59l7.72-7.72 1.47 1.35L5.41 20z\"/>\n",
              "  </svg>\n",
              "      </button>\n",
              "      \n",
              "  <style>\n",
              "    .colab-df-container {\n",
              "      display:flex;\n",
              "      flex-wrap:wrap;\n",
              "      gap: 12px;\n",
              "    }\n",
              "\n",
              "    .colab-df-convert {\n",
              "      background-color: #E8F0FE;\n",
              "      border: none;\n",
              "      border-radius: 50%;\n",
              "      cursor: pointer;\n",
              "      display: none;\n",
              "      fill: #1967D2;\n",
              "      height: 32px;\n",
              "      padding: 0 0 0 0;\n",
              "      width: 32px;\n",
              "    }\n",
              "\n",
              "    .colab-df-convert:hover {\n",
              "      background-color: #E2EBFA;\n",
              "      box-shadow: 0px 1px 2px rgba(60, 64, 67, 0.3), 0px 1px 3px 1px rgba(60, 64, 67, 0.15);\n",
              "      fill: #174EA6;\n",
              "    }\n",
              "\n",
              "    [theme=dark] .colab-df-convert {\n",
              "      background-color: #3B4455;\n",
              "      fill: #D2E3FC;\n",
              "    }\n",
              "\n",
              "    [theme=dark] .colab-df-convert:hover {\n",
              "      background-color: #434B5C;\n",
              "      box-shadow: 0px 1px 3px 1px rgba(0, 0, 0, 0.15);\n",
              "      filter: drop-shadow(0px 1px 2px rgba(0, 0, 0, 0.3));\n",
              "      fill: #FFFFFF;\n",
              "    }\n",
              "  </style>\n",
              "\n",
              "      <script>\n",
              "        const buttonEl =\n",
              "          document.querySelector('#df-8096e675-3f72-4a07-8e60-c7ed91f529a4 button.colab-df-convert');\n",
              "        buttonEl.style.display =\n",
              "          google.colab.kernel.accessAllowed ? 'block' : 'none';\n",
              "\n",
              "        async function convertToInteractive(key) {\n",
              "          const element = document.querySelector('#df-8096e675-3f72-4a07-8e60-c7ed91f529a4');\n",
              "          const dataTable =\n",
              "            await google.colab.kernel.invokeFunction('convertToInteractive',\n",
              "                                                     [key], {});\n",
              "          if (!dataTable) return;\n",
              "\n",
              "          const docLinkHtml = 'Like what you see? Visit the ' +\n",
              "            '<a target=\"_blank\" href=https://colab.research.google.com/notebooks/data_table.ipynb>data table notebook</a>'\n",
              "            + ' to learn more about interactive tables.';\n",
              "          element.innerHTML = '';\n",
              "          dataTable['output_type'] = 'display_data';\n",
              "          await google.colab.output.renderOutput(dataTable, element);\n",
              "          const docLink = document.createElement('div');\n",
              "          docLink.innerHTML = docLinkHtml;\n",
              "          element.appendChild(docLink);\n",
              "        }\n",
              "      </script>\n",
              "    </div>\n",
              "  </div>\n",
              "  "
            ]
          },
          "metadata": {},
          "execution_count": 247
        }
      ]
    },
    {
      "cell_type": "markdown",
      "source": [
        "##### Deserción - Edad"
      ],
      "metadata": {
        "id": "FUVqKxxRb5vA"
      }
    },
    {
      "cell_type": "code",
      "source": [
        "fig_dims = (8, 6)\n",
        "fig, ax = plt.subplots(figsize=fig_dims)\n",
        "\n",
        "bp = sns.boxplot(x=\"Deserción\", y=\"Edad\", data=dataFrame)\n",
        "bp.axes.set_title(\"Edades que desertaron vs edades que no desertaron \",fontsize=20, pad=20)\n",
        "bp.set_xlabel(\"Deserción\",fontsize=16)\n",
        "bp.set_ylabel(\"Edad\",fontsize=16)\n",
        "bp.tick_params(labelsize=15)"
      ],
      "metadata": {
        "colab": {
          "base_uri": "https://localhost:8080/"
        },
        "id": "EhmtRuq6Sg9J",
        "outputId": "5d6ea741-ae0d-48a4-e99e-f07f78ca6d4d"
      },
      "execution_count": null,
      "outputs": [
        {
          "output_type": "display_data",
          "data": {
            "text/plain": [
              "<Figure size 576x432 with 1 Axes>"
            ],
            "image/png": "[encoded data removed]"
          },
          "metadata": {}
        }
      ]
    },
    {
      "cell_type": "markdown",
      "source": [
        "**Conclusiones del análisis bivariado**:\n"
      ],
      "metadata": {
        "id": "-6ho-5fw7_zh"
      }
    },
    {
      "cell_type": "markdown",
      "source": [
        "No hay diferencias significativas entre la satifacción de los distintos departamentos,  por lo cual no valdria la pena hacer una subdivisión de ellos para un analisis particular \n",
        "\n",
        "Puede observarse que la distribución de edades entre quienes desertan y quienes es bastante similar. Se nota más concentración de edad alrededor de la media entre quienes no desertan. No se observa que la edad sea un factor determinante en la decisión de desertar."
      ],
      "metadata": {
        "id": "XtZ0QXOUWCdb"
      }
    },
    {
      "cell_type": "markdown",
      "source": [
        "#### Análisis Multivariado"
      ],
      "metadata": {
        "id": "8r2RYi50VqnO"
      }
    },
    {
      "cell_type": "code",
      "source": [
        "\n",
        "plt.figure(figsize=(8,6))\n",
        "sns.scatterplot(x='Años en la empresa',y='Ingreso mensual',data=dataFrame, hue='Deserción', palette=\"Blues\")\n",
        "plt.show()"
      ],
      "metadata": {
        "id": "NsbdWL3sxJi3",
        "colab": {
          "base_uri": "https://localhost:8080/"
        },
        "outputId": "8540684a-3953-4ec9-d783-c4439be7e3e7"
      },
      "execution_count": null,
      "outputs": [
        {
          "output_type": "display_data",
          "data": {
            "text/plain": [
              "<Figure size 576x432 with 1 Axes>"
            ],
            "image/png": "[encoded data removed]"
          },
          "metadata": {}
        }
      ]
    },
    {
      "cell_type": "markdown",
      "source": [
        "**Conclusiones del análisis de multivariado**:\n",
        "\n",
        "\n",
        "\n",
        "\n"
      ],
      "metadata": {
        "id": "B-coIYP6WI1o"
      }
    },
    {
      "cell_type": "markdown",
      "source": [
        "Se puede observar que existe mayor cantidad de deserción por desgaste en los primeros años trabajados relacionados con bajos ingresos"
      ],
      "metadata": {
        "id": "veY78vq8WL0E"
      }
    },
    {
      "cell_type": "markdown",
      "source": [
        "### 3.6. Correlación de variables"
      ],
      "metadata": {
        "id": "qIdvR0Wm0z2P"
      }
    },
    {
      "cell_type": "markdown",
      "source": [
        "#####**Filtro de variables independientes**\n",
        "\n",
        "Se realizá un primer análisis para intentar hacer un filtro de caracteristicas o variables que sean independientes, para esto se eliminará la variable target del dataset, que es la decersión.\n",
        " \n",
        "\n",
        " "
      ],
      "metadata": {
        "id": "VoGBvGUtESdj"
      }
    },
    {
      "cell_type": "code",
      "source": [
        "plt.rcParams['figure.figsize'] = (20, 20)\n",
        " \n",
        "sns.heatmap(dataFrame.drop(\"Deserción\", axis=1).corr().round(2), annot = True, cmap = 'Blues')\n",
        "plt.title('Heatmap for the Dataset', fontsize = 20)\n",
        "plt.show()"
      ],
      "metadata": {
        "id": "OQ-v8lZ58AmI",
        "colab": {
          "base_uri": "https://localhost:8080/",
          "height": 236
        },
        "outputId": "1c582822-bdf5-40b8-c96e-570839a0df13"
      },
      "execution_count": 1,
      "outputs": [
        {
          "output_type": "error",
          "ename": "NameError",
          "evalue": "ignored",
          "traceback": [
            "\u001b[0;31m---------------------------------------------------------------------------\u001b[0m",
            "\u001b[0;31mNameError\u001b[0m                                 Traceback (most recent call last)",
            "\u001b[0;32m<ipython-input-1-1378e15d9a15>\u001b[0m in \u001b[0;36m<module>\u001b[0;34m()\u001b[0m\n\u001b[0;32m----> 1\u001b[0;31m \u001b[0mplt\u001b[0m\u001b[0;34m.\u001b[0m\u001b[0mrcParams\u001b[0m\u001b[0;34m[\u001b[0m\u001b[0;34m'figure.figsize'\u001b[0m\u001b[0;34m]\u001b[0m \u001b[0;34m=\u001b[0m \u001b[0;34m(\u001b[0m\u001b[0;36m20\u001b[0m\u001b[0;34m,\u001b[0m \u001b[0;36m20\u001b[0m\u001b[0;34m)\u001b[0m\u001b[0;34m\u001b[0m\u001b[0;34m\u001b[0m\u001b[0m\n\u001b[0m\u001b[1;32m      2\u001b[0m \u001b[0;34m\u001b[0m\u001b[0m\n\u001b[1;32m      3\u001b[0m \u001b[0msns\u001b[0m\u001b[0;34m.\u001b[0m\u001b[0mheatmap\u001b[0m\u001b[0;34m(\u001b[0m\u001b[0mdataFrame\u001b[0m\u001b[0;34m.\u001b[0m\u001b[0mdrop\u001b[0m\u001b[0;34m(\u001b[0m\u001b[0;34m\"Deserción\"\u001b[0m\u001b[0;34m,\u001b[0m \u001b[0maxis\u001b[0m\u001b[0;34m=\u001b[0m\u001b[0;36m1\u001b[0m\u001b[0;34m)\u001b[0m\u001b[0;34m.\u001b[0m\u001b[0mcorr\u001b[0m\u001b[0;34m(\u001b[0m\u001b[0;34m)\u001b[0m\u001b[0;34m.\u001b[0m\u001b[0mround\u001b[0m\u001b[0;34m(\u001b[0m\u001b[0;36m2\u001b[0m\u001b[0;34m)\u001b[0m\u001b[0;34m,\u001b[0m \u001b[0mannot\u001b[0m \u001b[0;34m=\u001b[0m \u001b[0;32mTrue\u001b[0m\u001b[0;34m,\u001b[0m \u001b[0mcmap\u001b[0m \u001b[0;34m=\u001b[0m \u001b[0;34m'Blues'\u001b[0m\u001b[0;34m)\u001b[0m\u001b[0;34m\u001b[0m\u001b[0;34m\u001b[0m\u001b[0m\n\u001b[1;32m      4\u001b[0m \u001b[0mplt\u001b[0m\u001b[0;34m.\u001b[0m\u001b[0mtitle\u001b[0m\u001b[0;34m(\u001b[0m\u001b[0;34m'Heatmap for the Dataset'\u001b[0m\u001b[0;34m,\u001b[0m \u001b[0mfontsize\u001b[0m \u001b[0;34m=\u001b[0m \u001b[0;36m20\u001b[0m\u001b[0;34m)\u001b[0m\u001b[0;34m\u001b[0m\u001b[0;34m\u001b[0m\u001b[0m\n\u001b[1;32m      5\u001b[0m \u001b[0mplt\u001b[0m\u001b[0;34m.\u001b[0m\u001b[0mshow\u001b[0m\u001b[0;34m(\u001b[0m\u001b[0;34m)\u001b[0m\u001b[0;34m\u001b[0m\u001b[0;34m\u001b[0m\u001b[0m\n",
            "\u001b[0;31mNameError\u001b[0m: name 'plt' is not defined"
          ]
        }
      ]
    },
    {
      "cell_type": "markdown",
      "source": [
        "#####**Filtro de variables por importancia**\n",
        "\n",
        "Se realizá un segundo análisis para intentar hacer un filtro de características o variables que no sean importantes, ahora se debe incluir la variable Deserción \n",
        " \n",
        "\n",
        " "
      ],
      "metadata": {
        "id": "T1GLzqJ0LLkw"
      }
    },
    {
      "cell_type": "code",
      "source": [
        "plt.rcParams['figure.figsize'] = (20, 20)\n",
        "sns.heatmap(dataFrame.corr().round(2), annot = True, cmap = 'Blues')\n",
        "plt.title('Heatmap for the Dataset', fontsize = 20)\n",
        "plt.show()"
      ],
      "metadata": {
        "id": "1wGglJOCLENX"
      },
      "execution_count": null,
      "outputs": []
    },
    {
      "cell_type": "markdown",
      "source": [
        "#### Conclusiones del mapa de correlación \n"
      ],
      "metadata": {
        "id": "FvSKkuVBskWR"
      }
    },
    {
      "cell_type": "markdown",
      "source": [
        "Del mapa de calor  de correlación, podemos ver que algunas de nuestras variables parecen estar muy correlacionadas entre sí y otras con una correlación casi nulas.\n",
        "\n",
        "La mayoría de las features están mal correlacionadas entre si, salvo:\n",
        "\n",
        "*   Años en la compañia\n",
        "*   Años en el rol actual\n",
        "*   Años desde la última promoción\n",
        "*   Años con el actual manager\n",
        "*   Total de años trabajados\n",
        "\n",
        "Existe muy buena relación entre\n",
        " \n",
        "*  Clasificación de rendimento y Porcentaje de aumentos de salario : 0.77 \n",
        "*  Ingreso mensual y Nivel de trabajo 0.89\n",
        "\n",
        "\n",
        "\n",
        "Como no tenemos un gran número de variables correlacionadas entre si decidimos no aplicar la técnica PCA. \n",
        "\n",
        "Podriamos eliminar la variable Nivel de trabajo ya que tiene una alta correlación con ingreso mensual. Veremos más adelante si esto mejorara la predicción en este sentido.\n",
        " \n"
      ],
      "metadata": {
        "id": "idd_kxeezasY"
      }
    },
    {
      "cell_type": "markdown",
      "source": [
        "### 3.7 Eliminando Variables altamente correlacionadas"
      ],
      "metadata": {
        "id": "6mgxlippHvA0"
      }
    },
    {
      "cell_type": "code",
      "source": [
        " \n",
        "dataFrame=dataFrame.drop(columns = ['Nivel de trabajo'])\n",
        "\n",
        " "
      ],
      "metadata": {
        "id": "z20e6HmGHtjU"
      },
      "execution_count": null,
      "outputs": []
    },
    {
      "cell_type": "markdown",
      "source": [
        "# 4 . Modelos candidatos"
      ],
      "metadata": {
        "id": "kY78f_SWq96B"
      }
    },
    {
      "cell_type": "markdown",
      "source": [
        "###  4.1 Variable target "
      ],
      "metadata": {
        "id": "Mmxb2YbFM7Sd"
      }
    },
    {
      "cell_type": "markdown",
      "source": [
        "La variable target o a predecir es **Deserción** ,es una variable CATEGÓRICA que tiene dos posibilidades YES o NO, anteriormente, en el punto 3.2 usamos LabelEncoder para normalizar esos valores de modo que contengan 1 y 0 respectivamente. \n",
        "Todas las variables son numéricas, ya sea enteras o reales y no tiene valores nulos."
      ],
      "metadata": {
        "id": "5SpnYJuBNFEP"
      }
    },
    {
      "cell_type": "code",
      "source": [
        "from sklearn.model_selection import train_test_split\n",
        " \n",
        "X = dataFrame.drop(\"Deserción\", axis=1) #Elimino de mi dataset la variable a predecir\n",
        "y = dataFrame.Deserción #Defino el Target\n",
        " \n",
        "X_train, X_test, y_train, y_test = train_test_split(X, y, test_size=0.25, random_state=27)"
      ],
      "metadata": {
        "id": "QVSk-svrmi03"
      },
      "execution_count": null,
      "outputs": []
    },
    {
      "cell_type": "code",
      "source": [
        "# Importamos la libreria para separar en train y test\n",
        "from sklearn.model_selection import train_test_split\n",
        "\n",
        "# Importamos el modelo\n",
        "from sklearn.model_selection import GridSearchCV, KFold\n",
        "\n",
        "# Métricas\n",
        "from sklearn.metrics import accuracy_score\n",
        "from sklearn.metrics import precision_score\n",
        "from sklearn.metrics import recall_score\n",
        "from sklearn.metrics import f1_score\n",
        "from sklearn.metrics import roc_curve, roc_auc_score,precision_recall_curve\n",
        "\n",
        " \n",
        "from sklearn.tree import export_graphviz\n",
        "from sklearn.tree import plot_tree\n",
        "\n",
        "from sklearn.metrics import confusion_matrix, ConfusionMatrixDisplay\n",
        " \n",
        "import plotly.graph_objects as go\n",
        "from plotly.subplots import make_subplots"
      ],
      "metadata": {
        "id": "mYHgASf3XLWW"
      },
      "execution_count": null,
      "outputs": []
    },
    {
      "cell_type": "markdown",
      "source": [
        "### Funciones útiles\n",
        "\n"
      ],
      "metadata": {
        "id": "GNhj6A3TRmA7"
      }
    },
    {
      "cell_type": "code",
      "source": [
        "def model_performance_plot(model, modelobj) : \n",
        "    \n",
        "    fig, axes = plt.subplots(1,2, figsize=(15, 5))\n",
        "    cf_matrix = confusion_matrix(y_test, y_test_pred)\n",
        "   \n",
        "    group_names = ['V N','F P','F N','T P']\n",
        "    group_counts = [\"{0:0.0f}\".format(value) for value in\n",
        "                cf_matrix.flatten()]\n",
        "    group_percentages = [\"{0:.2%}\".format(value) for value in  cf_matrix.flatten()/np.sum(cf_matrix)]\n",
        "    labels = [f\"{v1}\\n{v2}\\n{v3}\" for v1, v2, v3 in  zip(group_names,group_counts,group_percentages)]\n",
        "\n",
        "    labels = np.asarray(labels).reshape(2,2)\n",
        "    sns.heatmap(ax=axes[1],data=cf_matrix, annot=labels, fmt='', cmap='Blues', cbar=True)\n",
        "\n",
        "    tp = cf_matrix[1,1]\n",
        "    fn = cf_matrix[1,0]\n",
        "    fp = cf_matrix[0,1]\n",
        "    tn = cf_matrix[0,0]\n",
        "    Accuracy  =  ((tp+tn)/(tp+tn+fp+fn))\n",
        "    Precision =  (tp/(tp+fp))\n",
        "    Recall    =  (tp/(tp+fn))\n",
        "    F1_score  =  (2*(((tp/(tp+fp))*(tp/(tp+fn)))/((tp/(tp+fp))+(tp/(tp+fn)))))\n",
        "\n",
        "    show_metrics = pd.DataFrame(data=[[Accuracy , Precision, Recall, F1_score]])\n",
        "    show_metrics = show_metrics.T\n",
        "\n",
        "    sns.barplot(ax=axes[0] ,x = (show_metrics[0].values), \n",
        "                   y = ['Accuracy', 'Precision', 'Recall', 'F1_score'] , palette  =\"Blues_r\"\n",
        "                ) \n",
        "    \n",
        "  "
      ],
      "metadata": {
        "id": "vgkXV_DARxVI"
      },
      "execution_count": null,
      "outputs": []
    },
    {
      "cell_type": "code",
      "source": [
        "from sklearn.metrics import roc_curve, auc\n",
        "def model_performance_plot2(model, modelobj) : \n",
        "    fig, axes = plt.subplots(1, 2, figsize=(15,5), sharey=True)\n",
        "    class_probabilities = modelobj.predict_proba(X_test)\n",
        "    preds = class_probabilities[:, 1]\n",
        " \n",
        "    lr_probs = class_probabilities\n",
        "    # Nos quedamos unicamente con las predicciones positicas\n",
        "    lr_probs = preds\n",
        "    # Sacamos los valores\n",
        "    yhat = modelobj.predict(X_test)\n",
        "    lr_precision, lr_recall, _ = precision_recall_curve(y_test, lr_probs)\n",
        "    lr_f1, lr_auc = f1_score(y_test, yhat), auc(lr_recall, lr_precision)\n",
        "    # Resumimos s\n",
        "    print(model,': f1=%.3f auc=%.3f' % (lr_f1, lr_auc))\n",
        "    # plot the precision-recall curves\n",
        "    no_skill = len(y_test[y_test==1]) / len(y_test)\n",
        "    axes[1].plot([0, 1], [no_skill, no_skill], linestyle='--', label='Sin entrenar')\n",
        "    axes[1].plot(lr_recall, lr_precision, marker='.', label=model)\n",
        "    #Etiquetas de ejes  \n",
        "    axes[1].legend(loc = 'lower right')  \n",
        "    axes[1].set(xlabel='Sensibilidad', ylabel='Precisión') \n",
        "\n",
        "\n",
        "    #Curva ROC    \n",
        "\n",
        "    model_roc_auc = round(roc_auc_score(y_test, preds) , 3)\n",
        "    fpr, tpr, threshold = roc_curve(y_test, preds)\n",
        "    roc_auc = auc(fpr, tpr)\n",
        "  \n",
        "    # Gráfica de la Curva ROC\n",
        "\n",
        "    axes[0].set_title('Receiver Operating Characteristic')\n",
        "    axes[0].plot(fpr, tpr, 'b', label = 'AUC = %0.2f' % roc_auc)\n",
        "    axes[0].legend(loc = 'lower right')\n",
        "    axes[0].plot([0, 1], [0, 1],'r--')\n",
        "    axes[0].set(xlabel='Tasa de Falsos Positivos', ylabel='Tasa de Verdaderos Positivos') \n",
        "\n",
        " \n",
        " "
      ],
      "metadata": {
        "id": "kyvG-1neGu08"
      },
      "execution_count": null,
      "outputs": []
    },
    {
      "cell_type": "code",
      "source": [
        "def model_perfomance_dataFrame(model, modelobj):\n",
        "    #Calculo el accuracy en Train\n",
        "    train_accuracy = accuracy_score(y_train, y_train_pred)\n",
        "\n",
        "    #Calculo el accuracy en Test\n",
        "    test_accuracy = accuracy_score(y_test, y_test_pred)\n",
        "\n",
        "    #Precision Score\n",
        "    prec_score = precision_score(y_test, y_test_pred)\n",
        "\n",
        "    #Recall Score\n",
        "    rec_score = recall_score(y_test, y_test_pred)\n",
        "\n",
        "    #F1 Score\n",
        "    f1_score_val = f1_score(y_test, y_test_pred) \n",
        "\n",
        "    vals = data=[model,\n",
        "                train_accuracy, test_accuracy, prec_score, rec_score, f1_score_val]\n",
        "    cols = [\"Modelo\",\"Train Accuracy\", \"Test Accuracy\", \"Precision Score\", \"Recall Score\", \"F1 Score\"]\n",
        "\n",
        "    df_metrics = pd.DataFrame([vals], columns=cols)\n",
        "    return df_metrics\n"
      ],
      "metadata": {
        "id": "l-XiP6F7bV0M"
      },
      "execution_count": null,
      "outputs": []
    },
    {
      "cell_type": "markdown",
      "source": [
        "### 4.3 Seleccionando posibles algoritmos candidatos\n"
      ],
      "metadata": {
        "id": "54TXHIYzqBqp"
      }
    },
    {
      "cell_type": "markdown",
      "source": [
        "#### DecisionTreeClassifier"
      ],
      "metadata": {
        "id": "aaO2RExS22qs"
      }
    },
    {
      "cell_type": "code",
      "source": [
        "\n",
        "from sklearn.tree import DecisionTreeClassifier\n"
      ],
      "metadata": {
        "id": "vUIKy7B_28_c"
      },
      "execution_count": null,
      "outputs": []
    },
    {
      "cell_type": "code",
      "source": [
        "modeloDecisionTree= DecisionTreeClassifier()\n",
        " \n",
        "param_grid = {'max_depth': list(range(1, 4)) , 'min_samples_leaf':[5,10,15,20]}\n",
        "cv = KFold(n_splits=5)\n",
        "\n",
        "grid = GridSearchCV(modeloDecisionTree, param_grid, cv=cv, scoring='accuracy')\n",
        "grid.fit(X_train, y_train)\n",
        "\n",
        "best_min_samples_leaf = grid.best_params_['min_samples_leaf']\n",
        "best_max_depth = grid.best_params_['max_depth']\n",
        "print('La mejor cantidad minima de muestras por hoja es ' + str(best_min_samples_leaf))\n",
        "print('La mejor profundidad es ' + str(best_max_depth) )\n",
        " "
      ],
      "metadata": {
        "colab": {
          "base_uri": "https://localhost:8080/"
        },
        "id": "NYfSDQmBpguP",
        "outputId": "61ac8219-b0d1-4a2f-c058-8b047d9fd647"
      },
      "execution_count": null,
      "outputs": [
        {
          "output_type": "stream",
          "name": "stdout",
          "text": [
            "La mejor cantidad minima de muestras por hoja es 5\n",
            "La mejor profundidad es 3\n"
          ]
        }
      ]
    },
    {
      "cell_type": "code",
      "source": [
        "modeloDecisionTree = DecisionTreeClassifier(max_depth=best_max_depth, min_samples_leaf=5 ,random_state = 42) \n",
        "modeloDecisionTree.fit(X_train,y_train) \n",
        "#Prediccion en Train\n",
        "y_train_pred = modeloDecisionTree.predict(X_train)\n",
        "#Prediccion en Test\n",
        "y_test_pred = modeloDecisionTree.predict(X_test) \n",
        " \n",
        "\n",
        " \n",
        " "
      ],
      "metadata": {
        "id": "VjM52Te6pvSs"
      },
      "execution_count": null,
      "outputs": []
    },
    {
      "cell_type": "code",
      "source": [
        "\n",
        "model_performance_plot('modeloDecisionTree', modeloDecisionTree)\n",
        "model_performance_plot2('modeloDecisionTree', modeloDecisionTree)\n"
      ],
      "metadata": {
        "colab": {
          "base_uri": "https://localhost:8080/",
          "height": 677
        },
        "id": "tADzUI966Irq",
        "outputId": "ee434dc7-7220-44c1-b9c8-a6c711d2276d"
      },
      "execution_count": null,
      "outputs": [
        {
          "output_type": "stream",
          "name": "stdout",
          "text": [
            "modeloDecisionTree : f1=0.311 auc=0.418\n"
          ]
        },
        {
          "output_type": "display_data",
          "data": {
            "text/plain": [
              "<Figure size 1080x360 with 3 Axes>"
            ],
            "image/png": "[encoded data removed]"
          },
          "metadata": {}
        },
        {
          "output_type": "display_data",
          "data": {
            "text/plain": [
              "<Figure size 1080x360 with 2 Axes>"
            ],
            "image/png": "[encoded data removed]"
          },
          "metadata": {}
        }
      ]
    },
    {
      "cell_type": "code",
      "source": [
        "dfmetrics1=model_perfomance_dataFrame('DecisionTree', modeloDecisionTree)\n",
        "dfmetrics1"
      ],
      "metadata": {
        "colab": {
          "base_uri": "https://localhost:8080/",
          "height": 81
        },
        "id": "hNNsa85lbSH4",
        "outputId": "6b85d6b6-67af-4f1b-cad5-7c8db88719ce"
      },
      "execution_count": null,
      "outputs": [
        {
          "output_type": "execute_result",
          "data": {
            "text/plain": [
              "         Modelo  Train Accuracy  Test Accuracy  Precision Score  Recall Score  \\\n",
              "0  DecisionTree        0.874773       0.807065         0.457143      0.235294   \n",
              "\n",
              "   F1 Score  \n",
              "0   0.31068  "
            ],
            "text/html": [
              "\n",
              "  <div id=\"df-511a268b-9898-416a-a26e-a0dd6fc50bb9\">\n",
              "    <div class=\"colab-df-container\">\n",
              "      <div>\n",
              "<style scoped>\n",
              "    .dataframe tbody tr th:only-of-type {\n",
              "        vertical-align: middle;\n",
              "    }\n",
              "\n",
              "    .dataframe tbody tr th {\n",
              "        vertical-align: top;\n",
              "    }\n",
              "\n",
              "    .dataframe thead th {\n",
              "        text-align: right;\n",
              "    }\n",
              "</style>\n",
              "<table border=\"1\" class=\"dataframe\">\n",
              "  <thead>\n",
              "    <tr style=\"text-align: right;\">\n",
              "      <th></th>\n",
              "      <th>Modelo</th>\n",
              "      <th>Train Accuracy</th>\n",
              "      <th>Test Accuracy</th>\n",
              "      <th>Precision Score</th>\n",
              "      <th>Recall Score</th>\n",
              "      <th>F1 Score</th>\n",
              "    </tr>\n",
              "  </thead>\n",
              "  <tbody>\n",
              "    <tr>\n",
              "      <th>0</th>\n",
              "      <td>DecisionTree</td>\n",
              "      <td>0.874773</td>\n",
              "      <td>0.807065</td>\n",
              "      <td>0.457143</td>\n",
              "      <td>0.235294</td>\n",
              "      <td>0.31068</td>\n",
              "    </tr>\n",
              "  </tbody>\n",
              "</table>\n",
              "</div>\n",
              "      <button class=\"colab-df-convert\" onclick=\"convertToInteractive('df-511a268b-9898-416a-a26e-a0dd6fc50bb9')\"\n",
              "              title=\"Convert this dataframe to an interactive table.\"\n",
              "              style=\"display:none;\">\n",
              "        \n",
              "  <svg xmlns=\"http://www.w3.org/2000/svg\" height=\"24px\"viewBox=\"0 0 24 24\"\n",
              "       width=\"24px\">\n",
              "    <path d=\"M0 0h24v24H0V0z\" fill=\"none\"/>\n",
              "    <path d=\"M18.56 5.44l.94 2.06.94-2.06 2.06-.94-2.06-.94-.94-2.06-.94 2.06-2.06.94zm-11 1L8.5 8.5l.94-2.06 2.06-.94-2.06-.94L8.5 2.5l-.94 2.06-2.06.94zm10 10l.94 2.06.94-2.06 2.06-.94-2.06-.94-.94-2.06-.94 2.06-2.06.94z\"/><path d=\"M17.41 7.96l-1.37-1.37c-.4-.4-.92-.59-1.43-.59-.52 0-1.04.2-1.43.59L10.3 9.45l-7.72 7.72c-.78.78-.78 2.05 0 2.83L4 21.41c.39.39.9.59 1.41.59.51 0 1.02-.2 1.41-.59l7.78-7.78 2.81-2.81c.8-.78.8-2.07 0-2.86zM5.41 20L4 18.59l7.72-7.72 1.47 1.35L5.41 20z\"/>\n",
              "  </svg>\n",
              "      </button>\n",
              "      \n",
              "  <style>\n",
              "    .colab-df-container {\n",
              "      display:flex;\n",
              "      flex-wrap:wrap;\n",
              "      gap: 12px;\n",
              "    }\n",
              "\n",
              "    .colab-df-convert {\n",
              "      background-color: #E8F0FE;\n",
              "      border: none;\n",
              "      border-radius: 50%;\n",
              "      cursor: pointer;\n",
              "      display: none;\n",
              "      fill: #1967D2;\n",
              "      height: 32px;\n",
              "      padding: 0 0 0 0;\n",
              "      width: 32px;\n",
              "    }\n",
              "\n",
              "    .colab-df-convert:hover {\n",
              "      background-color: #E2EBFA;\n",
              "      box-shadow: 0px 1px 2px rgba(60, 64, 67, 0.3), 0px 1px 3px 1px rgba(60, 64, 67, 0.15);\n",
              "      fill: #174EA6;\n",
              "    }\n",
              "\n",
              "    [theme=dark] .colab-df-convert {\n",
              "      background-color: #3B4455;\n",
              "      fill: #D2E3FC;\n",
              "    }\n",
              "\n",
              "    [theme=dark] .colab-df-convert:hover {\n",
              "      background-color: #434B5C;\n",
              "      box-shadow: 0px 1px 3px 1px rgba(0, 0, 0, 0.15);\n",
              "      filter: drop-shadow(0px 1px 2px rgba(0, 0, 0, 0.3));\n",
              "      fill: #FFFFFF;\n",
              "    }\n",
              "  </style>\n",
              "\n",
              "      <script>\n",
              "        const buttonEl =\n",
              "          document.querySelector('#df-511a268b-9898-416a-a26e-a0dd6fc50bb9 button.colab-df-convert');\n",
              "        buttonEl.style.display =\n",
              "          google.colab.kernel.accessAllowed ? 'block' : 'none';\n",
              "\n",
              "        async function convertToInteractive(key) {\n",
              "          const element = document.querySelector('#df-511a268b-9898-416a-a26e-a0dd6fc50bb9');\n",
              "          const dataTable =\n",
              "            await google.colab.kernel.invokeFunction('convertToInteractive',\n",
              "                                                     [key], {});\n",
              "          if (!dataTable) return;\n",
              "\n",
              "          const docLinkHtml = 'Like what you see? Visit the ' +\n",
              "            '<a target=\"_blank\" href=https://colab.research.google.com/notebooks/data_table.ipynb>data table notebook</a>'\n",
              "            + ' to learn more about interactive tables.';\n",
              "          element.innerHTML = '';\n",
              "          dataTable['output_type'] = 'display_data';\n",
              "          await google.colab.output.renderOutput(dataTable, element);\n",
              "          const docLink = document.createElement('div');\n",
              "          docLink.innerHTML = docLinkHtml;\n",
              "          element.appendChild(docLink);\n",
              "        }\n",
              "      </script>\n",
              "    </div>\n",
              "  </div>\n",
              "  "
            ]
          },
          "metadata": {},
          "execution_count": 262
        }
      ]
    },
    {
      "cell_type": "code",
      "source": [
        "modeloDecisionTree= DecisionTreeClassifier()\n",
        " \n",
        "param_grid = {'max_depth': list(range(1, 5)) , 'min_samples_leaf':[5,10,15,20]}\n",
        "cv = KFold(n_splits=5)\n",
        "\n",
        "grid = GridSearchCV(modeloDecisionTree, param_grid, cv=cv, scoring='recall')\n",
        "grid.fit(X_train, y_train)\n",
        "\n",
        "best_min_samples_leaf = grid.best_params_['min_samples_leaf']\n",
        "best_max_depth = grid.best_params_['max_depth']\n",
        "print('La mejor cantidad minima de muestras por hoja es ' + str(best_min_samples_leaf))\n",
        "print('La mejor profundidad es ' + str(best_max_depth) )"
      ],
      "metadata": {
        "colab": {
          "base_uri": "https://localhost:8080/"
        },
        "id": "4pYuLIK4qIT9",
        "outputId": "34683000-9e7a-4bf0-e009-edb6c164adb7"
      },
      "execution_count": null,
      "outputs": [
        {
          "output_type": "stream",
          "name": "stdout",
          "text": [
            "La mejor cantidad minima de muestras por hoja es 5\n",
            "La mejor profundidad es 3\n"
          ]
        }
      ]
    },
    {
      "cell_type": "markdown",
      "source": [
        "#### RandomForest Classifier"
      ],
      "metadata": {
        "id": "ol_WuJz6qLOW"
      }
    },
    {
      "cell_type": "code",
      "source": [
        "from  sklearn.ensemble  import RandomForestClassifier\n",
        "\n"
      ],
      "metadata": {
        "id": "6J-3Upy0mvoK"
      },
      "execution_count": null,
      "outputs": []
    },
    {
      "cell_type": "code",
      "source": [
        "from sklearn.model_selection import RandomizedSearchCV\n",
        "import scipy as sp\n",
        "modeloRandomForest= RandomForestClassifier()\n",
        " \n",
        "parameters = {\n",
        "    \"max_depth\": range(1, 11),\n",
        "    \"min_samples_split\": range(2, 21),\n",
        "    \"min_samples_leaf\": range(1, 5)\n",
        "}\n",
        "\n",
        " \n",
        "#Aplicamos la grilla al modelo\n",
        "modeloOptimizandoRandomForest = RandomizedSearchCV(modeloRandomForest, parameters,n_iter=100, random_state=0, cv=5)\n",
        "modeloOptimizandoRandomForest.fit(X_train, y_train)"
      ],
      "metadata": {
        "colab": {
          "base_uri": "https://localhost:8080/"
        },
        "id": "L9KE2IKSsRor",
        "outputId": "018597de-1942-4eee-8f19-9ba1fd003962"
      },
      "execution_count": null,
      "outputs": [
        {
          "output_type": "execute_result",
          "data": {
            "text/plain": [
              "RandomizedSearchCV(cv=5, estimator=RandomForestClassifier(), n_iter=100,\n",
              "                   param_distributions={'max_depth': range(1, 11),\n",
              "                                        'min_samples_leaf': range(1, 5),\n",
              "                                        'min_samples_split': range(2, 21)},\n",
              "                   random_state=0)"
            ]
          },
          "metadata": {},
          "execution_count": 265
        }
      ]
    },
    {
      "cell_type": "code",
      "source": [
        "best_min_samples_leaf = modeloOptimizandoRandomForest.best_params_['min_samples_leaf']\n",
        "best_max_depth = modeloOptimizandoRandomForest.best_params_['max_depth']\n",
        "print('La mejor cantidad minima de muestras por hoja es ' + str(best_min_samples_leaf))\n",
        "print('La mejor profundidad es ' + str(best_max_depth) )"
      ],
      "metadata": {
        "colab": {
          "base_uri": "https://localhost:8080/"
        },
        "id": "ONcTQEfPsVLR",
        "outputId": "596d46db-85bf-4c74-d480-79a28540fd66"
      },
      "execution_count": null,
      "outputs": [
        {
          "output_type": "stream",
          "name": "stdout",
          "text": [
            "La mejor cantidad minima de muestras por hoja es 1\n",
            "La mejor profundidad es 9\n"
          ]
        }
      ]
    },
    {
      "cell_type": "code",
      "source": [
        "modeloRandomForestOptimizado = RandomForestClassifier(max_depth=best_max_depth, min_samples_leaf=best_min_samples_leaf ,random_state = 42) \n",
        "modeloRandomForestOptimizado.fit(X_train,y_train) \n",
        "#Prediccion en Train\n",
        "y_train_pred = modeloRandomForestOptimizado.predict(X_train)\n",
        "#Prediccion en Test\n",
        "y_test_pred = modeloRandomForestOptimizado.predict(X_test) "
      ],
      "metadata": {
        "id": "YO5IoXCTspkZ"
      },
      "execution_count": null,
      "outputs": []
    },
    {
      "cell_type": "markdown",
      "source": [
        "##### Métricas del modelo "
      ],
      "metadata": {
        "id": "_WQe9QJ6naNK"
      }
    },
    {
      "cell_type": "code",
      "source": [
        "model_performance_plot('RandomForestOptimizado', modeloRandomForestOptimizado)\n",
        "model_performance_plot2('RandomForestOptimizado', modeloRandomForestOptimizado)"
      ],
      "metadata": {
        "colab": {
          "base_uri": "https://localhost:8080/",
          "height": 677
        },
        "id": "VhTn91Dh5wtC",
        "outputId": "a13f91aa-7c4b-4cd1-c372-5093ae8dd162"
      },
      "execution_count": null,
      "outputs": [
        {
          "output_type": "stream",
          "name": "stdout",
          "text": [
            "RandomForestOptimizado : f1=0.203 auc=0.540\n"
          ]
        },
        {
          "output_type": "display_data",
          "data": {
            "text/plain": [
              "<Figure size 1080x360 with 3 Axes>"
            ],
            "image/png": "[encoded data removed]"
          },
          "metadata": {}
        },
        {
          "output_type": "display_data",
          "data": {
            "text/plain": [
              "<Figure size 1080x360 with 2 Axes>"
            ],
            "image/png": "[encoded data removed]"
          },
          "metadata": {}
        }
      ]
    },
    {
      "cell_type": "code",
      "source": [
        "dfmetrics2=model_perfomance_dataFrame('RandomForestOptimizado', modeloRandomForestOptimizado)\n",
        "dfmetrics2"
      ],
      "metadata": {
        "colab": {
          "base_uri": "https://localhost:8080/",
          "height": 81
        },
        "id": "oJX-3Sz_dozm",
        "outputId": "5a940c83-ff52-4008-9c49-4c46b0bb65e5"
      },
      "execution_count": null,
      "outputs": [
        {
          "output_type": "execute_result",
          "data": {
            "text/plain": [
              "                   Modelo  Train Accuracy  Test Accuracy  Precision Score  \\\n",
              "0  RandomForestOptimizado        0.962795       0.828804         0.727273   \n",
              "\n",
              "   Recall Score  F1 Score  \n",
              "0      0.117647  0.202532  "
            ],
            "text/html": [
              "\n",
              "  <div id=\"df-021f9a4c-4e42-445f-815c-38574a1203fc\">\n",
              "    <div class=\"colab-df-container\">\n",
              "      <div>\n",
              "<style scoped>\n",
              "    .dataframe tbody tr th:only-of-type {\n",
              "        vertical-align: middle;\n",
              "    }\n",
              "\n",
              "    .dataframe tbody tr th {\n",
              "        vertical-align: top;\n",
              "    }\n",
              "\n",
              "    .dataframe thead th {\n",
              "        text-align: right;\n",
              "    }\n",
              "</style>\n",
              "<table border=\"1\" class=\"dataframe\">\n",
              "  <thead>\n",
              "    <tr style=\"text-align: right;\">\n",
              "      <th></th>\n",
              "      <th>Modelo</th>\n",
              "      <th>Train Accuracy</th>\n",
              "      <th>Test Accuracy</th>\n",
              "      <th>Precision Score</th>\n",
              "      <th>Recall Score</th>\n",
              "      <th>F1 Score</th>\n",
              "    </tr>\n",
              "  </thead>\n",
              "  <tbody>\n",
              "    <tr>\n",
              "      <th>0</th>\n",
              "      <td>RandomForestOptimizado</td>\n",
              "      <td>0.962795</td>\n",
              "      <td>0.828804</td>\n",
              "      <td>0.727273</td>\n",
              "      <td>0.117647</td>\n",
              "      <td>0.202532</td>\n",
              "    </tr>\n",
              "  </tbody>\n",
              "</table>\n",
              "</div>\n",
              "      <button class=\"colab-df-convert\" onclick=\"convertToInteractive('df-021f9a4c-4e42-445f-815c-38574a1203fc')\"\n",
              "              title=\"Convert this dataframe to an interactive table.\"\n",
              "              style=\"display:none;\">\n",
              "        \n",
              "  <svg xmlns=\"http://www.w3.org/2000/svg\" height=\"24px\"viewBox=\"0 0 24 24\"\n",
              "       width=\"24px\">\n",
              "    <path d=\"M0 0h24v24H0V0z\" fill=\"none\"/>\n",
              "    <path d=\"M18.56 5.44l.94 2.06.94-2.06 2.06-.94-2.06-.94-.94-2.06-.94 2.06-2.06.94zm-11 1L8.5 8.5l.94-2.06 2.06-.94-2.06-.94L8.5 2.5l-.94 2.06-2.06.94zm10 10l.94 2.06.94-2.06 2.06-.94-2.06-.94-.94-2.06-.94 2.06-2.06.94z\"/><path d=\"M17.41 7.96l-1.37-1.37c-.4-.4-.92-.59-1.43-.59-.52 0-1.04.2-1.43.59L10.3 9.45l-7.72 7.72c-.78.78-.78 2.05 0 2.83L4 21.41c.39.39.9.59 1.41.59.51 0 1.02-.2 1.41-.59l7.78-7.78 2.81-2.81c.8-.78.8-2.07 0-2.86zM5.41 20L4 18.59l7.72-7.72 1.47 1.35L5.41 20z\"/>\n",
              "  </svg>\n",
              "      </button>\n",
              "      \n",
              "  <style>\n",
              "    .colab-df-container {\n",
              "      display:flex;\n",
              "      flex-wrap:wrap;\n",
              "      gap: 12px;\n",
              "    }\n",
              "\n",
              "    .colab-df-convert {\n",
              "      background-color: #E8F0FE;\n",
              "      border: none;\n",
              "      border-radius: 50%;\n",
              "      cursor: pointer;\n",
              "      display: none;\n",
              "      fill: #1967D2;\n",
              "      height: 32px;\n",
              "      padding: 0 0 0 0;\n",
              "      width: 32px;\n",
              "    }\n",
              "\n",
              "    .colab-df-convert:hover {\n",
              "      background-color: #E2EBFA;\n",
              "      box-shadow: 0px 1px 2px rgba(60, 64, 67, 0.3), 0px 1px 3px 1px rgba(60, 64, 67, 0.15);\n",
              "      fill: #174EA6;\n",
              "    }\n",
              "\n",
              "    [theme=dark] .colab-df-convert {\n",
              "      background-color: #3B4455;\n",
              "      fill: #D2E3FC;\n",
              "    }\n",
              "\n",
              "    [theme=dark] .colab-df-convert:hover {\n",
              "      background-color: #434B5C;\n",
              "      box-shadow: 0px 1px 3px 1px rgba(0, 0, 0, 0.15);\n",
              "      filter: drop-shadow(0px 1px 2px rgba(0, 0, 0, 0.3));\n",
              "      fill: #FFFFFF;\n",
              "    }\n",
              "  </style>\n",
              "\n",
              "      <script>\n",
              "        const buttonEl =\n",
              "          document.querySelector('#df-021f9a4c-4e42-445f-815c-38574a1203fc button.colab-df-convert');\n",
              "        buttonEl.style.display =\n",
              "          google.colab.kernel.accessAllowed ? 'block' : 'none';\n",
              "\n",
              "        async function convertToInteractive(key) {\n",
              "          const element = document.querySelector('#df-021f9a4c-4e42-445f-815c-38574a1203fc');\n",
              "          const dataTable =\n",
              "            await google.colab.kernel.invokeFunction('convertToInteractive',\n",
              "                                                     [key], {});\n",
              "          if (!dataTable) return;\n",
              "\n",
              "          const docLinkHtml = 'Like what you see? Visit the ' +\n",
              "            '<a target=\"_blank\" href=https://colab.research.google.com/notebooks/data_table.ipynb>data table notebook</a>'\n",
              "            + ' to learn more about interactive tables.';\n",
              "          element.innerHTML = '';\n",
              "          dataTable['output_type'] = 'display_data';\n",
              "          await google.colab.output.renderOutput(dataTable, element);\n",
              "          const docLink = document.createElement('div');\n",
              "          docLink.innerHTML = docLinkHtml;\n",
              "          element.appendChild(docLink);\n",
              "        }\n",
              "      </script>\n",
              "    </div>\n",
              "  </div>\n",
              "  "
            ]
          },
          "metadata": {},
          "execution_count": 269
        }
      ]
    },
    {
      "cell_type": "markdown",
      "source": [
        "#### AdaBoostClassifier\n"
      ],
      "metadata": {
        "id": "gGz-7wH4a2Y0"
      }
    },
    {
      "cell_type": "code",
      "source": [
        "from sklearn.ensemble import AdaBoostClassifier\n",
        "ada = AdaBoostClassifier()\n",
        "\n",
        "from sklearn.model_selection import GridSearchCV#Creating a grid of hyperparameters\n",
        "grid_params = {    'n_estimators': [100,200,300]}#Building a 3 fold CV GridSearchCV object\n",
        "grid = GridSearchCV(estimator = ada, param_grid = grid_params, scoring = 'recall', cv = 3, n_jobs = -1)\n",
        "#Fitting the grid to the training \n",
        "grid_result = grid.fit(X, y)\n",
        "# summarize the best score and configuration\n",
        "print(\"Best: %f using %s\" % (grid_result.best_score_, grid_result.best_params_))\n",
        " \n",
        "\n"
      ],
      "metadata": {
        "id": "ebAyyeLI6yu6",
        "colab": {
          "base_uri": "https://localhost:8080/"
        },
        "outputId": "87490e63-004a-4235-d55d-a674463e0299"
      },
      "execution_count": null,
      "outputs": [
        {
          "output_type": "stream",
          "name": "stdout",
          "text": [
            "Best: 0.181435 using {'n_estimators': 300}\n"
          ]
        }
      ]
    },
    {
      "cell_type": "code",
      "source": [
        "modelAdaBoostClassifier = AdaBoostClassifier(n_estimators=300) \n",
        "modelAdaBoostClassifier.fit(X_train,y_train) \n",
        "#Prediccion en Train\n",
        "y_train_pred = modelAdaBoostClassifier.predict(X_train)\n",
        "#Prediccion en Test3\n",
        "y_test_pred = modelAdaBoostClassifier.predict(X_test) "
      ],
      "metadata": {
        "id": "JBC_Q-4GhSdn"
      },
      "execution_count": null,
      "outputs": []
    },
    {
      "cell_type": "markdown",
      "source": [
        "##### Métricas del modelo "
      ],
      "metadata": {
        "id": "_DwU1fPTnhNS"
      }
    },
    {
      "cell_type": "code",
      "source": [
        "model_performance_plot('AdaBoostClassifier', modelAdaBoostClassifier)\n",
        "model_performance_plot2('AdaBoostClassifier', modelAdaBoostClassifier)"
      ],
      "metadata": {
        "colab": {
          "base_uri": "https://localhost:8080/",
          "height": 677
        },
        "id": "3QIKEKGfhkJf",
        "outputId": "750cb90b-8e71-4ea3-8a9c-58a52fcf3eed"
      },
      "execution_count": null,
      "outputs": [
        {
          "output_type": "stream",
          "name": "stdout",
          "text": [
            "AdaBoostClassifier : f1=0.441 auc=0.510\n"
          ]
        },
        {
          "output_type": "display_data",
          "data": {
            "text/plain": [
              "<Figure size 1080x360 with 3 Axes>"
            ],
            "image/png": "[encoded data removed]"
          },
          "metadata": {}
        },
        {
          "output_type": "display_data",
          "data": {
            "text/plain": [
              "<Figure size 1080x360 with 2 Axes>"
            ],
            "image/png": "[encoded data removed]"
          },
          "metadata": {}
        }
      ]
    },
    {
      "cell_type": "code",
      "source": [
        "dfmetrics3=model_perfomance_dataFrame('AdaBoostClassifier', modelAdaBoostClassifier)\n",
        "dfmetrics3"
      ],
      "metadata": {
        "id": "dBM7S-j37HJc",
        "colab": {
          "base_uri": "https://localhost:8080/",
          "height": 81
        },
        "outputId": "9556fdb2-8faf-4401-cfc4-8dfa3bad7ce6"
      },
      "execution_count": null,
      "outputs": [
        {
          "output_type": "execute_result",
          "data": {
            "text/plain": [
              "               Modelo  Train Accuracy  Test Accuracy  Precision Score  \\\n",
              "0  AdaBoostClassifier        0.952813       0.820652             0.52   \n",
              "\n",
              "   Recall Score  F1 Score  \n",
              "0      0.382353  0.440678  "
            ],
            "text/html": [
              "\n",
              "  <div id=\"df-27c6023b-dd75-4abd-a903-6f202d472386\">\n",
              "    <div class=\"colab-df-container\">\n",
              "      <div>\n",
              "<style scoped>\n",
              "    .dataframe tbody tr th:only-of-type {\n",
              "        vertical-align: middle;\n",
              "    }\n",
              "\n",
              "    .dataframe tbody tr th {\n",
              "        vertical-align: top;\n",
              "    }\n",
              "\n",
              "    .dataframe thead th {\n",
              "        text-align: right;\n",
              "    }\n",
              "</style>\n",
              "<table border=\"1\" class=\"dataframe\">\n",
              "  <thead>\n",
              "    <tr style=\"text-align: right;\">\n",
              "      <th></th>\n",
              "      <th>Modelo</th>\n",
              "      <th>Train Accuracy</th>\n",
              "      <th>Test Accuracy</th>\n",
              "      <th>Precision Score</th>\n",
              "      <th>Recall Score</th>\n",
              "      <th>F1 Score</th>\n",
              "    </tr>\n",
              "  </thead>\n",
              "  <tbody>\n",
              "    <tr>\n",
              "      <th>0</th>\n",
              "      <td>AdaBoostClassifier</td>\n",
              "      <td>0.952813</td>\n",
              "      <td>0.820652</td>\n",
              "      <td>0.52</td>\n",
              "      <td>0.382353</td>\n",
              "      <td>0.440678</td>\n",
              "    </tr>\n",
              "  </tbody>\n",
              "</table>\n",
              "</div>\n",
              "      <button class=\"colab-df-convert\" onclick=\"convertToInteractive('df-27c6023b-dd75-4abd-a903-6f202d472386')\"\n",
              "              title=\"Convert this dataframe to an interactive table.\"\n",
              "              style=\"display:none;\">\n",
              "        \n",
              "  <svg xmlns=\"http://www.w3.org/2000/svg\" height=\"24px\"viewBox=\"0 0 24 24\"\n",
              "       width=\"24px\">\n",
              "    <path d=\"M0 0h24v24H0V0z\" fill=\"none\"/>\n",
              "    <path d=\"M18.56 5.44l.94 2.06.94-2.06 2.06-.94-2.06-.94-.94-2.06-.94 2.06-2.06.94zm-11 1L8.5 8.5l.94-2.06 2.06-.94-2.06-.94L8.5 2.5l-.94 2.06-2.06.94zm10 10l.94 2.06.94-2.06 2.06-.94-2.06-.94-.94-2.06-.94 2.06-2.06.94z\"/><path d=\"M17.41 7.96l-1.37-1.37c-.4-.4-.92-.59-1.43-.59-.52 0-1.04.2-1.43.59L10.3 9.45l-7.72 7.72c-.78.78-.78 2.05 0 2.83L4 21.41c.39.39.9.59 1.41.59.51 0 1.02-.2 1.41-.59l7.78-7.78 2.81-2.81c.8-.78.8-2.07 0-2.86zM5.41 20L4 18.59l7.72-7.72 1.47 1.35L5.41 20z\"/>\n",
              "  </svg>\n",
              "      </button>\n",
              "      \n",
              "  <style>\n",
              "    .colab-df-container {\n",
              "      display:flex;\n",
              "      flex-wrap:wrap;\n",
              "      gap: 12px;\n",
              "    }\n",
              "\n",
              "    .colab-df-convert {\n",
              "      background-color: #E8F0FE;\n",
              "      border: none;\n",
              "      border-radius: 50%;\n",
              "      cursor: pointer;\n",
              "      display: none;\n",
              "      fill: #1967D2;\n",
              "      height: 32px;\n",
              "      padding: 0 0 0 0;\n",
              "      width: 32px;\n",
              "    }\n",
              "\n",
              "    .colab-df-convert:hover {\n",
              "      background-color: #E2EBFA;\n",
              "      box-shadow: 0px 1px 2px rgba(60, 64, 67, 0.3), 0px 1px 3px 1px rgba(60, 64, 67, 0.15);\n",
              "      fill: #174EA6;\n",
              "    }\n",
              "\n",
              "    [theme=dark] .colab-df-convert {\n",
              "      background-color: #3B4455;\n",
              "      fill: #D2E3FC;\n",
              "    }\n",
              "\n",
              "    [theme=dark] .colab-df-convert:hover {\n",
              "      background-color: #434B5C;\n",
              "      box-shadow: 0px 1px 3px 1px rgba(0, 0, 0, 0.15);\n",
              "      filter: drop-shadow(0px 1px 2px rgba(0, 0, 0, 0.3));\n",
              "      fill: #FFFFFF;\n",
              "    }\n",
              "  </style>\n",
              "\n",
              "      <script>\n",
              "        const buttonEl =\n",
              "          document.querySelector('#df-27c6023b-dd75-4abd-a903-6f202d472386 button.colab-df-convert');\n",
              "        buttonEl.style.display =\n",
              "          google.colab.kernel.accessAllowed ? 'block' : 'none';\n",
              "\n",
              "        async function convertToInteractive(key) {\n",
              "          const element = document.querySelector('#df-27c6023b-dd75-4abd-a903-6f202d472386');\n",
              "          const dataTable =\n",
              "            await google.colab.kernel.invokeFunction('convertToInteractive',\n",
              "                                                     [key], {});\n",
              "          if (!dataTable) return;\n",
              "\n",
              "          const docLinkHtml = 'Like what you see? Visit the ' +\n",
              "            '<a target=\"_blank\" href=https://colab.research.google.com/notebooks/data_table.ipynb>data table notebook</a>'\n",
              "            + ' to learn more about interactive tables.';\n",
              "          element.innerHTML = '';\n",
              "          dataTable['output_type'] = 'display_data';\n",
              "          await google.colab.output.renderOutput(dataTable, element);\n",
              "          const docLink = document.createElement('div');\n",
              "          docLink.innerHTML = docLinkHtml;\n",
              "          element.appendChild(docLink);\n",
              "        }\n",
              "      </script>\n",
              "    </div>\n",
              "  </div>\n",
              "  "
            ]
          },
          "metadata": {},
          "execution_count": 273
        }
      ]
    },
    {
      "cell_type": "markdown",
      "source": [
        "#### XGBOOST"
      ],
      "metadata": {
        "id": "jPUpIOBnNhfN"
      }
    },
    {
      "cell_type": "code",
      "source": [
        "import xgboost as xgb\n",
        "modeloXgboost = xgb.XGBClassifier(objective='binary:logistic', n_estimators=10,seed=123)\n",
        "modeloXgboost.fit(X_train,y_train)\n",
        "\n",
        "y_train_pred = modeloXgboost.predict(X_train)\n",
        "#Prediccion en Test\n",
        "y_test_pred = modeloXgboost.predict(X_test) "
      ],
      "metadata": {
        "id": "JFuVYoFNNr4m"
      },
      "execution_count": null,
      "outputs": []
    },
    {
      "cell_type": "markdown",
      "source": [
        "##### Métricas del modelo "
      ],
      "metadata": {
        "id": "uX-fd10Anjow"
      }
    },
    {
      "cell_type": "code",
      "source": [
        "model_performance_plot('Xgboost', modeloXgboost)\n",
        "model_performance_plot2('Xgboost', modeloXgboost)"
      ],
      "metadata": {
        "colab": {
          "base_uri": "https://localhost:8080/",
          "height": 677
        },
        "id": "SnHcLSz4hr_F",
        "outputId": "df9e7e23-a838-4376-f6c5-60371888d618"
      },
      "execution_count": null,
      "outputs": [
        {
          "output_type": "stream",
          "name": "stdout",
          "text": [
            "Xgboost : f1=0.270 auc=0.440\n"
          ]
        },
        {
          "output_type": "display_data",
          "data": {
            "text/plain": [
              "<Figure size 1080x360 with 3 Axes>"
            ],
            "image/png": "[encoded data removed]"
          },
          "metadata": {}
        },
        {
          "output_type": "display_data",
          "data": {
            "text/plain": [
              "<Figure size 1080x360 with 2 Axes>"
            ],
            "image/png": "[encoded data removed]"
          },
          "metadata": {}
        }
      ]
    },
    {
      "cell_type": "code",
      "source": [
        "dfmetrics4=model_perfomance_dataFrame('modeloXgboost', modeloXgboost)\n",
        "dfmetrics4"
      ],
      "metadata": {
        "id": "P7dL9z2vO1Cc",
        "colab": {
          "base_uri": "https://localhost:8080/",
          "height": 81
        },
        "outputId": "45a1a946-8aca-4954-a96b-bf61cda203f4"
      },
      "execution_count": null,
      "outputs": [
        {
          "output_type": "execute_result",
          "data": {
            "text/plain": [
              "          Modelo  Train Accuracy  Test Accuracy  Precision Score  \\\n",
              "0  modeloXgboost        0.881125        0.82337         0.571429   \n",
              "\n",
              "   Recall Score  F1 Score  \n",
              "0      0.176471  0.269663  "
            ],
            "text/html": [
              "\n",
              "  <div id=\"df-e6bef0ff-84a8-4fe1-bc13-8ebfc7f0d922\">\n",
              "    <div class=\"colab-df-container\">\n",
              "      <div>\n",
              "<style scoped>\n",
              "    .dataframe tbody tr th:only-of-type {\n",
              "        vertical-align: middle;\n",
              "    }\n",
              "\n",
              "    .dataframe tbody tr th {\n",
              "        vertical-align: top;\n",
              "    }\n",
              "\n",
              "    .dataframe thead th {\n",
              "        text-align: right;\n",
              "    }\n",
              "</style>\n",
              "<table border=\"1\" class=\"dataframe\">\n",
              "  <thead>\n",
              "    <tr style=\"text-align: right;\">\n",
              "      <th></th>\n",
              "      <th>Modelo</th>\n",
              "      <th>Train Accuracy</th>\n",
              "      <th>Test Accuracy</th>\n",
              "      <th>Precision Score</th>\n",
              "      <th>Recall Score</th>\n",
              "      <th>F1 Score</th>\n",
              "    </tr>\n",
              "  </thead>\n",
              "  <tbody>\n",
              "    <tr>\n",
              "      <th>0</th>\n",
              "      <td>modeloXgboost</td>\n",
              "      <td>0.881125</td>\n",
              "      <td>0.82337</td>\n",
              "      <td>0.571429</td>\n",
              "      <td>0.176471</td>\n",
              "      <td>0.269663</td>\n",
              "    </tr>\n",
              "  </tbody>\n",
              "</table>\n",
              "</div>\n",
              "      <button class=\"colab-df-convert\" onclick=\"convertToInteractive('df-e6bef0ff-84a8-4fe1-bc13-8ebfc7f0d922')\"\n",
              "              title=\"Convert this dataframe to an interactive table.\"\n",
              "              style=\"display:none;\">\n",
              "        \n",
              "  <svg xmlns=\"http://www.w3.org/2000/svg\" height=\"24px\"viewBox=\"0 0 24 24\"\n",
              "       width=\"24px\">\n",
              "    <path d=\"M0 0h24v24H0V0z\" fill=\"none\"/>\n",
              "    <path d=\"M18.56 5.44l.94 2.06.94-2.06 2.06-.94-2.06-.94-.94-2.06-.94 2.06-2.06.94zm-11 1L8.5 8.5l.94-2.06 2.06-.94-2.06-.94L8.5 2.5l-.94 2.06-2.06.94zm10 10l.94 2.06.94-2.06 2.06-.94-2.06-.94-.94-2.06-.94 2.06-2.06.94z\"/><path d=\"M17.41 7.96l-1.37-1.37c-.4-.4-.92-.59-1.43-.59-.52 0-1.04.2-1.43.59L10.3 9.45l-7.72 7.72c-.78.78-.78 2.05 0 2.83L4 21.41c.39.39.9.59 1.41.59.51 0 1.02-.2 1.41-.59l7.78-7.78 2.81-2.81c.8-.78.8-2.07 0-2.86zM5.41 20L4 18.59l7.72-7.72 1.47 1.35L5.41 20z\"/>\n",
              "  </svg>\n",
              "      </button>\n",
              "      \n",
              "  <style>\n",
              "    .colab-df-container {\n",
              "      display:flex;\n",
              "      flex-wrap:wrap;\n",
              "      gap: 12px;\n",
              "    }\n",
              "\n",
              "    .colab-df-convert {\n",
              "      background-color: #E8F0FE;\n",
              "      border: none;\n",
              "      border-radius: 50%;\n",
              "      cursor: pointer;\n",
              "      display: none;\n",
              "      fill: #1967D2;\n",
              "      height: 32px;\n",
              "      padding: 0 0 0 0;\n",
              "      width: 32px;\n",
              "    }\n",
              "\n",
              "    .colab-df-convert:hover {\n",
              "      background-color: #E2EBFA;\n",
              "      box-shadow: 0px 1px 2px rgba(60, 64, 67, 0.3), 0px 1px 3px 1px rgba(60, 64, 67, 0.15);\n",
              "      fill: #174EA6;\n",
              "    }\n",
              "\n",
              "    [theme=dark] .colab-df-convert {\n",
              "      background-color: #3B4455;\n",
              "      fill: #D2E3FC;\n",
              "    }\n",
              "\n",
              "    [theme=dark] .colab-df-convert:hover {\n",
              "      background-color: #434B5C;\n",
              "      box-shadow: 0px 1px 3px 1px rgba(0, 0, 0, 0.15);\n",
              "      filter: drop-shadow(0px 1px 2px rgba(0, 0, 0, 0.3));\n",
              "      fill: #FFFFFF;\n",
              "    }\n",
              "  </style>\n",
              "\n",
              "      <script>\n",
              "        const buttonEl =\n",
              "          document.querySelector('#df-e6bef0ff-84a8-4fe1-bc13-8ebfc7f0d922 button.colab-df-convert');\n",
              "        buttonEl.style.display =\n",
              "          google.colab.kernel.accessAllowed ? 'block' : 'none';\n",
              "\n",
              "        async function convertToInteractive(key) {\n",
              "          const element = document.querySelector('#df-e6bef0ff-84a8-4fe1-bc13-8ebfc7f0d922');\n",
              "          const dataTable =\n",
              "            await google.colab.kernel.invokeFunction('convertToInteractive',\n",
              "                                                     [key], {});\n",
              "          if (!dataTable) return;\n",
              "\n",
              "          const docLinkHtml = 'Like what you see? Visit the ' +\n",
              "            '<a target=\"_blank\" href=https://colab.research.google.com/notebooks/data_table.ipynb>data table notebook</a>'\n",
              "            + ' to learn more about interactive tables.';\n",
              "          element.innerHTML = '';\n",
              "          dataTable['output_type'] = 'display_data';\n",
              "          await google.colab.output.renderOutput(dataTable, element);\n",
              "          const docLink = document.createElement('div');\n",
              "          docLink.innerHTML = docLinkHtml;\n",
              "          element.appendChild(docLink);\n",
              "        }\n",
              "      </script>\n",
              "    </div>\n",
              "  </div>\n",
              "  "
            ]
          },
          "metadata": {},
          "execution_count": 276
        }
      ]
    },
    {
      "cell_type": "markdown",
      "source": [
        "#### Logistic Regression"
      ],
      "metadata": {
        "id": "T-kSa0eDcsPs"
      }
    },
    {
      "cell_type": "code",
      "source": [
        "from sklearn.linear_model import LogisticRegression\n",
        " \n",
        "modeloRegresionlogistica = LogisticRegression(solver='lbfgs',class_weight='balanced', max_iter=10000) #usamos la clase balanced para intentar equilibrar a la clase minoritaria penalizando a la clase mayoritaria durante el entrenamiento\n",
        " \n",
        "modeloRegresionlogistica.fit(X_train, y_train)\n",
        "\n",
        "#Prediccion en Train\n",
        "y_train_pred = modeloRegresionlogistica.predict(X_train)\n",
        "#Prediccion en Test\n",
        "y_test_pred = modeloRegresionlogistica.predict(X_test) "
      ],
      "metadata": {
        "id": "0uNqn9X2jkwu"
      },
      "execution_count": null,
      "outputs": []
    },
    {
      "cell_type": "markdown",
      "source": [
        "#####  Métricas del modelo"
      ],
      "metadata": {
        "id": "x-nqG8pddEKo"
      }
    },
    {
      "cell_type": "code",
      "source": [
        "model_performance_plot('Regresionlogistica', modeloRegresionlogistica)\n",
        "model_performance_plot2('Regresionlogistica', modeloRegresionlogistica)"
      ],
      "metadata": {
        "colab": {
          "base_uri": "https://localhost:8080/",
          "height": 677
        },
        "id": "WjO7L8e8h1v-",
        "outputId": "1513eff9-06ee-442c-af80-bc71daa054be"
      },
      "execution_count": null,
      "outputs": [
        {
          "output_type": "stream",
          "name": "stdout",
          "text": [
            "Regresionlogistica : f1=0.528 auc=0.603\n"
          ]
        },
        {
          "output_type": "display_data",
          "data": {
            "text/plain": [
              "<Figure size 1080x360 with 3 Axes>"
            ],
            "image/png": "[encoded data removed]"
          },
          "metadata": {}
        },
        {
          "output_type": "display_data",
          "data": {
            "text/plain": [
              "<Figure size 1080x360 with 2 Axes>"
            ],
            "image/png": "[encoded data removed]"
          },
          "metadata": {}
        }
      ]
    },
    {
      "cell_type": "code",
      "source": [
        "dfmetrics5=model_perfomance_dataFrame('Regresionlogistica', modeloRegresionlogistica)\n",
        "dfmetrics5"
      ],
      "metadata": {
        "id": "4e4aUpYNdBRH",
        "colab": {
          "base_uri": "https://localhost:8080/",
          "height": 81
        },
        "outputId": "ce30eb35-41bc-4bad-e46a-d488a9a8c829"
      },
      "execution_count": null,
      "outputs": [
        {
          "output_type": "execute_result",
          "data": {
            "text/plain": [
              "               Modelo  Train Accuracy  Test Accuracy  Precision Score  \\\n",
              "0  Regresionlogistica        0.768603       0.747283         0.403101   \n",
              "\n",
              "   Recall Score  F1 Score  \n",
              "0      0.764706  0.527919  "
            ],
            "text/html": [
              "\n",
              "  <div id=\"df-8eb2003c-c973-4165-8e3b-8f5f1ccc32b8\">\n",
              "    <div class=\"colab-df-container\">\n",
              "      <div>\n",
              "<style scoped>\n",
              "    .dataframe tbody tr th:only-of-type {\n",
              "        vertical-align: middle;\n",
              "    }\n",
              "\n",
              "    .dataframe tbody tr th {\n",
              "        vertical-align: top;\n",
              "    }\n",
              "\n",
              "    .dataframe thead th {\n",
              "        text-align: right;\n",
              "    }\n",
              "</style>\n",
              "<table border=\"1\" class=\"dataframe\">\n",
              "  <thead>\n",
              "    <tr style=\"text-align: right;\">\n",
              "      <th></th>\n",
              "      <th>Modelo</th>\n",
              "      <th>Train Accuracy</th>\n",
              "      <th>Test Accuracy</th>\n",
              "      <th>Precision Score</th>\n",
              "      <th>Recall Score</th>\n",
              "      <th>F1 Score</th>\n",
              "    </tr>\n",
              "  </thead>\n",
              "  <tbody>\n",
              "    <tr>\n",
              "      <th>0</th>\n",
              "      <td>Regresionlogistica</td>\n",
              "      <td>0.768603</td>\n",
              "      <td>0.747283</td>\n",
              "      <td>0.403101</td>\n",
              "      <td>0.764706</td>\n",
              "      <td>0.527919</td>\n",
              "    </tr>\n",
              "  </tbody>\n",
              "</table>\n",
              "</div>\n",
              "      <button class=\"colab-df-convert\" onclick=\"convertToInteractive('df-8eb2003c-c973-4165-8e3b-8f5f1ccc32b8')\"\n",
              "              title=\"Convert this dataframe to an interactive table.\"\n",
              "              style=\"display:none;\">\n",
              "        \n",
              "  <svg xmlns=\"http://www.w3.org/2000/svg\" height=\"24px\"viewBox=\"0 0 24 24\"\n",
              "       width=\"24px\">\n",
              "    <path d=\"M0 0h24v24H0V0z\" fill=\"none\"/>\n",
              "    <path d=\"M18.56 5.44l.94 2.06.94-2.06 2.06-.94-2.06-.94-.94-2.06-.94 2.06-2.06.94zm-11 1L8.5 8.5l.94-2.06 2.06-.94-2.06-.94L8.5 2.5l-.94 2.06-2.06.94zm10 10l.94 2.06.94-2.06 2.06-.94-2.06-.94-.94-2.06-.94 2.06-2.06.94z\"/><path d=\"M17.41 7.96l-1.37-1.37c-.4-.4-.92-.59-1.43-.59-.52 0-1.04.2-1.43.59L10.3 9.45l-7.72 7.72c-.78.78-.78 2.05 0 2.83L4 21.41c.39.39.9.59 1.41.59.51 0 1.02-.2 1.41-.59l7.78-7.78 2.81-2.81c.8-.78.8-2.07 0-2.86zM5.41 20L4 18.59l7.72-7.72 1.47 1.35L5.41 20z\"/>\n",
              "  </svg>\n",
              "      </button>\n",
              "      \n",
              "  <style>\n",
              "    .colab-df-container {\n",
              "      display:flex;\n",
              "      flex-wrap:wrap;\n",
              "      gap: 12px;\n",
              "    }\n",
              "\n",
              "    .colab-df-convert {\n",
              "      background-color: #E8F0FE;\n",
              "      border: none;\n",
              "      border-radius: 50%;\n",
              "      cursor: pointer;\n",
              "      display: none;\n",
              "      fill: #1967D2;\n",
              "      height: 32px;\n",
              "      padding: 0 0 0 0;\n",
              "      width: 32px;\n",
              "    }\n",
              "\n",
              "    .colab-df-convert:hover {\n",
              "      background-color: #E2EBFA;\n",
              "      box-shadow: 0px 1px 2px rgba(60, 64, 67, 0.3), 0px 1px 3px 1px rgba(60, 64, 67, 0.15);\n",
              "      fill: #174EA6;\n",
              "    }\n",
              "\n",
              "    [theme=dark] .colab-df-convert {\n",
              "      background-color: #3B4455;\n",
              "      fill: #D2E3FC;\n",
              "    }\n",
              "\n",
              "    [theme=dark] .colab-df-convert:hover {\n",
              "      background-color: #434B5C;\n",
              "      box-shadow: 0px 1px 3px 1px rgba(0, 0, 0, 0.15);\n",
              "      filter: drop-shadow(0px 1px 2px rgba(0, 0, 0, 0.3));\n",
              "      fill: #FFFFFF;\n",
              "    }\n",
              "  </style>\n",
              "\n",
              "      <script>\n",
              "        const buttonEl =\n",
              "          document.querySelector('#df-8eb2003c-c973-4165-8e3b-8f5f1ccc32b8 button.colab-df-convert');\n",
              "        buttonEl.style.display =\n",
              "          google.colab.kernel.accessAllowed ? 'block' : 'none';\n",
              "\n",
              "        async function convertToInteractive(key) {\n",
              "          const element = document.querySelector('#df-8eb2003c-c973-4165-8e3b-8f5f1ccc32b8');\n",
              "          const dataTable =\n",
              "            await google.colab.kernel.invokeFunction('convertToInteractive',\n",
              "                                                     [key], {});\n",
              "          if (!dataTable) return;\n",
              "\n",
              "          const docLinkHtml = 'Like what you see? Visit the ' +\n",
              "            '<a target=\"_blank\" href=https://colab.research.google.com/notebooks/data_table.ipynb>data table notebook</a>'\n",
              "            + ' to learn more about interactive tables.';\n",
              "          element.innerHTML = '';\n",
              "          dataTable['output_type'] = 'display_data';\n",
              "          await google.colab.output.renderOutput(dataTable, element);\n",
              "          const docLink = document.createElement('div');\n",
              "          docLink.innerHTML = docLinkHtml;\n",
              "          element.appendChild(docLink);\n",
              "        }\n",
              "      </script>\n",
              "    </div>\n",
              "  </div>\n",
              "  "
            ]
          },
          "metadata": {},
          "execution_count": 279
        }
      ]
    },
    {
      "cell_type": "code",
      "source": [
        "modeloRegresionlogistica2 = LogisticRegression(C=1.0,penalty='l2',random_state=1,solver=\"newton-cg\",class_weight=\"balanced\")\n",
        "   \n",
        "modeloRegresionlogistica2.fit(X_train, y_train)\n",
        "\n",
        "#Prediccion en Train\n",
        "y_train_pred = modeloRegresionlogistica2.predict(X_train)\n",
        "#Prediccion en Test\n",
        "y_test_pred = modeloRegresionlogistica2.predict(X_test) "
      ],
      "metadata": {
        "id": "YMBh7I_8p2El"
      },
      "execution_count": null,
      "outputs": []
    },
    {
      "cell_type": "code",
      "source": [
        "model_performance_plot('Regresionlogistica2', modeloRegresionlogistica2)\n",
        "model_performance_plot2('Regresionlogistica2', modeloRegresionlogistica2) "
      ],
      "metadata": {
        "colab": {
          "base_uri": "https://localhost:8080/",
          "height": 677
        },
        "id": "3TVCTwUViLkj",
        "outputId": "6f3713c2-0af7-48ba-d751-cb1b30ad6535"
      },
      "execution_count": null,
      "outputs": [
        {
          "output_type": "stream",
          "name": "stdout",
          "text": [
            "Regresionlogistica2 : f1=0.530 auc=0.611\n"
          ]
        },
        {
          "output_type": "display_data",
          "data": {
            "text/plain": [
              "<Figure size 1080x360 with 3 Axes>"
            ],
            "image/png": "[encoded data removed]"
          },
          "metadata": {}
        },
        {
          "output_type": "display_data",
          "data": {
            "text/plain": [
              "<Figure size 1080x360 with 2 Axes>"
            ],
            "image/png": "[encoded data removed]"
          },
          "metadata": {}
        }
      ]
    },
    {
      "cell_type": "code",
      "source": [
        "dfmetrics6=model_perfomance_dataFrame('Regresionlogistica2', modeloRegresionlogistica2)\n",
        "dfmetrics6"
      ],
      "metadata": {
        "colab": {
          "base_uri": "https://localhost:8080/",
          "height": 81
        },
        "id": "TV-JZdd2ffLW",
        "outputId": "30384dfd-ed3d-4379-a974-a7bb70a8f762"
      },
      "execution_count": null,
      "outputs": [
        {
          "output_type": "execute_result",
          "data": {
            "text/plain": [
              "                Modelo  Train Accuracy  Test Accuracy  Precision Score  \\\n",
              "0  Regresionlogistica2        0.766788       0.744565         0.401515   \n",
              "\n",
              "   Recall Score  F1 Score  \n",
              "0      0.779412      0.53  "
            ],
            "text/html": [
              "\n",
              "  <div id=\"df-198fe5f6-60a2-4972-8ed5-bf24067fc5b0\">\n",
              "    <div class=\"colab-df-container\">\n",
              "      <div>\n",
              "<style scoped>\n",
              "    .dataframe tbody tr th:only-of-type {\n",
              "        vertical-align: middle;\n",
              "    }\n",
              "\n",
              "    .dataframe tbody tr th {\n",
              "        vertical-align: top;\n",
              "    }\n",
              "\n",
              "    .dataframe thead th {\n",
              "        text-align: right;\n",
              "    }\n",
              "</style>\n",
              "<table border=\"1\" class=\"dataframe\">\n",
              "  <thead>\n",
              "    <tr style=\"text-align: right;\">\n",
              "      <th></th>\n",
              "      <th>Modelo</th>\n",
              "      <th>Train Accuracy</th>\n",
              "      <th>Test Accuracy</th>\n",
              "      <th>Precision Score</th>\n",
              "      <th>Recall Score</th>\n",
              "      <th>F1 Score</th>\n",
              "    </tr>\n",
              "  </thead>\n",
              "  <tbody>\n",
              "    <tr>\n",
              "      <th>0</th>\n",
              "      <td>Regresionlogistica2</td>\n",
              "      <td>0.766788</td>\n",
              "      <td>0.744565</td>\n",
              "      <td>0.401515</td>\n",
              "      <td>0.779412</td>\n",
              "      <td>0.53</td>\n",
              "    </tr>\n",
              "  </tbody>\n",
              "</table>\n",
              "</div>\n",
              "      <button class=\"colab-df-convert\" onclick=\"convertToInteractive('df-198fe5f6-60a2-4972-8ed5-bf24067fc5b0')\"\n",
              "              title=\"Convert this dataframe to an interactive table.\"\n",
              "              style=\"display:none;\">\n",
              "        \n",
              "  <svg xmlns=\"http://www.w3.org/2000/svg\" height=\"24px\"viewBox=\"0 0 24 24\"\n",
              "       width=\"24px\">\n",
              "    <path d=\"M0 0h24v24H0V0z\" fill=\"none\"/>\n",
              "    <path d=\"M18.56 5.44l.94 2.06.94-2.06 2.06-.94-2.06-.94-.94-2.06-.94 2.06-2.06.94zm-11 1L8.5 8.5l.94-2.06 2.06-.94-2.06-.94L8.5 2.5l-.94 2.06-2.06.94zm10 10l.94 2.06.94-2.06 2.06-.94-2.06-.94-.94-2.06-.94 2.06-2.06.94z\"/><path d=\"M17.41 7.96l-1.37-1.37c-.4-.4-.92-.59-1.43-.59-.52 0-1.04.2-1.43.59L10.3 9.45l-7.72 7.72c-.78.78-.78 2.05 0 2.83L4 21.41c.39.39.9.59 1.41.59.51 0 1.02-.2 1.41-.59l7.78-7.78 2.81-2.81c.8-.78.8-2.07 0-2.86zM5.41 20L4 18.59l7.72-7.72 1.47 1.35L5.41 20z\"/>\n",
              "  </svg>\n",
              "      </button>\n",
              "      \n",
              "  <style>\n",
              "    .colab-df-container {\n",
              "      display:flex;\n",
              "      flex-wrap:wrap;\n",
              "      gap: 12px;\n",
              "    }\n",
              "\n",
              "    .colab-df-convert {\n",
              "      background-color: #E8F0FE;\n",
              "      border: none;\n",
              "      border-radius: 50%;\n",
              "      cursor: pointer;\n",
              "      display: none;\n",
              "      fill: #1967D2;\n",
              "      height: 32px;\n",
              "      padding: 0 0 0 0;\n",
              "      width: 32px;\n",
              "    }\n",
              "\n",
              "    .colab-df-convert:hover {\n",
              "      background-color: #E2EBFA;\n",
              "      box-shadow: 0px 1px 2px rgba(60, 64, 67, 0.3), 0px 1px 3px 1px rgba(60, 64, 67, 0.15);\n",
              "      fill: #174EA6;\n",
              "    }\n",
              "\n",
              "    [theme=dark] .colab-df-convert {\n",
              "      background-color: #3B4455;\n",
              "      fill: #D2E3FC;\n",
              "    }\n",
              "\n",
              "    [theme=dark] .colab-df-convert:hover {\n",
              "      background-color: #434B5C;\n",
              "      box-shadow: 0px 1px 3px 1px rgba(0, 0, 0, 0.15);\n",
              "      filter: drop-shadow(0px 1px 2px rgba(0, 0, 0, 0.3));\n",
              "      fill: #FFFFFF;\n",
              "    }\n",
              "  </style>\n",
              "\n",
              "      <script>\n",
              "        const buttonEl =\n",
              "          document.querySelector('#df-198fe5f6-60a2-4972-8ed5-bf24067fc5b0 button.colab-df-convert');\n",
              "        buttonEl.style.display =\n",
              "          google.colab.kernel.accessAllowed ? 'block' : 'none';\n",
              "\n",
              "        async function convertToInteractive(key) {\n",
              "          const element = document.querySelector('#df-198fe5f6-60a2-4972-8ed5-bf24067fc5b0');\n",
              "          const dataTable =\n",
              "            await google.colab.kernel.invokeFunction('convertToInteractive',\n",
              "                                                     [key], {});\n",
              "          if (!dataTable) return;\n",
              "\n",
              "          const docLinkHtml = 'Like what you see? Visit the ' +\n",
              "            '<a target=\"_blank\" href=https://colab.research.google.com/notebooks/data_table.ipynb>data table notebook</a>'\n",
              "            + ' to learn more about interactive tables.';\n",
              "          element.innerHTML = '';\n",
              "          dataTable['output_type'] = 'display_data';\n",
              "          await google.colab.output.renderOutput(dataTable, element);\n",
              "          const docLink = document.createElement('div');\n",
              "          docLink.innerHTML = docLinkHtml;\n",
              "          element.appendChild(docLink);\n",
              "        }\n",
              "      </script>\n",
              "    </div>\n",
              "  </div>\n",
              "  "
            ]
          },
          "metadata": {},
          "execution_count": 282
        }
      ]
    },
    {
      "cell_type": "markdown",
      "source": [
        "### 4.3 Comparación  de los modelos"
      ],
      "metadata": {
        "id": "OEBlbI9RvSmK"
      }
    },
    {
      "cell_type": "code",
      "source": [
        "dfmodelos=pd.DataFrame()\n",
        "dfmodelos=dfmodelos.append(dfmetrics1)\n",
        "dfmodelos=dfmodelos.append(dfmetrics2)\n",
        "dfmodelos=dfmodelos.append(dfmetrics3)\n",
        "dfmodelos=dfmodelos.append(dfmetrics4)\n",
        "dfmodelos=dfmodelos.append(dfmetrics5)\n",
        "dfmodelos=dfmodelos.append(dfmetrics6)\n",
        "dfmodelos \n",
        " "
      ],
      "metadata": {
        "id": "ptwteDl6vQxI",
        "colab": {
          "base_uri": "https://localhost:8080/",
          "height": 237
        },
        "outputId": "7d780115-a8b0-4c42-e4dd-9806fd7b00bb"
      },
      "execution_count": null,
      "outputs": [
        {
          "output_type": "execute_result",
          "data": {
            "text/plain": [
              "                   Modelo  Train Accuracy  Test Accuracy  Precision Score  \\\n",
              "0            DecisionTree        0.874773       0.807065         0.457143   \n",
              "0  RandomForestOptimizado        0.962795       0.828804         0.727273   \n",
              "0      AdaBoostClassifier        0.952813       0.820652         0.520000   \n",
              "0           modeloXgboost        0.881125       0.823370         0.571429   \n",
              "0      Regresionlogistica        0.768603       0.747283         0.403101   \n",
              "0     Regresionlogistica2        0.766788       0.744565         0.401515   \n",
              "\n",
              "   Recall Score  F1 Score  \n",
              "0      0.235294  0.310680  \n",
              "0      0.117647  0.202532  \n",
              "0      0.382353  0.440678  \n",
              "0      0.176471  0.269663  \n",
              "0      0.764706  0.527919  \n",
              "0      0.779412  0.530000  "
            ],
            "text/html": [
              "\n",
              "  <div id=\"df-dcf430c2-69da-41ca-afcf-8310567847ee\">\n",
              "    <div class=\"colab-df-container\">\n",
              "      <div>\n",
              "<style scoped>\n",
              "    .dataframe tbody tr th:only-of-type {\n",
              "        vertical-align: middle;\n",
              "    }\n",
              "\n",
              "    .dataframe tbody tr th {\n",
              "        vertical-align: top;\n",
              "    }\n",
              "\n",
              "    .dataframe thead th {\n",
              "        text-align: right;\n",
              "    }\n",
              "</style>\n",
              "<table border=\"1\" class=\"dataframe\">\n",
              "  <thead>\n",
              "    <tr style=\"text-align: right;\">\n",
              "      <th></th>\n",
              "      <th>Modelo</th>\n",
              "      <th>Train Accuracy</th>\n",
              "      <th>Test Accuracy</th>\n",
              "      <th>Precision Score</th>\n",
              "      <th>Recall Score</th>\n",
              "      <th>F1 Score</th>\n",
              "    </tr>\n",
              "  </thead>\n",
              "  <tbody>\n",
              "    <tr>\n",
              "      <th>0</th>\n",
              "      <td>DecisionTree</td>\n",
              "      <td>0.874773</td>\n",
              "      <td>0.807065</td>\n",
              "      <td>0.457143</td>\n",
              "      <td>0.235294</td>\n",
              "      <td>0.310680</td>\n",
              "    </tr>\n",
              "    <tr>\n",
              "      <th>0</th>\n",
              "      <td>RandomForestOptimizado</td>\n",
              "      <td>0.962795</td>\n",
              "      <td>0.828804</td>\n",
              "      <td>0.727273</td>\n",
              "      <td>0.117647</td>\n",
              "      <td>0.202532</td>\n",
              "    </tr>\n",
              "    <tr>\n",
              "      <th>0</th>\n",
              "      <td>AdaBoostClassifier</td>\n",
              "      <td>0.952813</td>\n",
              "      <td>0.820652</td>\n",
              "      <td>0.520000</td>\n",
              "      <td>0.382353</td>\n",
              "      <td>0.440678</td>\n",
              "    </tr>\n",
              "    <tr>\n",
              "      <th>0</th>\n",
              "      <td>modeloXgboost</td>\n",
              "      <td>0.881125</td>\n",
              "      <td>0.823370</td>\n",
              "      <td>0.571429</td>\n",
              "      <td>0.176471</td>\n",
              "      <td>0.269663</td>\n",
              "    </tr>\n",
              "    <tr>\n",
              "      <th>0</th>\n",
              "      <td>Regresionlogistica</td>\n",
              "      <td>0.768603</td>\n",
              "      <td>0.747283</td>\n",
              "      <td>0.403101</td>\n",
              "      <td>0.764706</td>\n",
              "      <td>0.527919</td>\n",
              "    </tr>\n",
              "    <tr>\n",
              "      <th>0</th>\n",
              "      <td>Regresionlogistica2</td>\n",
              "      <td>0.766788</td>\n",
              "      <td>0.744565</td>\n",
              "      <td>0.401515</td>\n",
              "      <td>0.779412</td>\n",
              "      <td>0.530000</td>\n",
              "    </tr>\n",
              "  </tbody>\n",
              "</table>\n",
              "</div>\n",
              "      <button class=\"colab-df-convert\" onclick=\"convertToInteractive('df-dcf430c2-69da-41ca-afcf-8310567847ee')\"\n",
              "              title=\"Convert this dataframe to an interactive table.\"\n",
              "              style=\"display:none;\">\n",
              "        \n",
              "  <svg xmlns=\"http://www.w3.org/2000/svg\" height=\"24px\"viewBox=\"0 0 24 24\"\n",
              "       width=\"24px\">\n",
              "    <path d=\"M0 0h24v24H0V0z\" fill=\"none\"/>\n",
              "    <path d=\"M18.56 5.44l.94 2.06.94-2.06 2.06-.94-2.06-.94-.94-2.06-.94 2.06-2.06.94zm-11 1L8.5 8.5l.94-2.06 2.06-.94-2.06-.94L8.5 2.5l-.94 2.06-2.06.94zm10 10l.94 2.06.94-2.06 2.06-.94-2.06-.94-.94-2.06-.94 2.06-2.06.94z\"/><path d=\"M17.41 7.96l-1.37-1.37c-.4-.4-.92-.59-1.43-.59-.52 0-1.04.2-1.43.59L10.3 9.45l-7.72 7.72c-.78.78-.78 2.05 0 2.83L4 21.41c.39.39.9.59 1.41.59.51 0 1.02-.2 1.41-.59l7.78-7.78 2.81-2.81c.8-.78.8-2.07 0-2.86zM5.41 20L4 18.59l7.72-7.72 1.47 1.35L5.41 20z\"/>\n",
              "  </svg>\n",
              "      </button>\n",
              "      \n",
              "  <style>\n",
              "    .colab-df-container {\n",
              "      display:flex;\n",
              "      flex-wrap:wrap;\n",
              "      gap: 12px;\n",
              "    }\n",
              "\n",
              "    .colab-df-convert {\n",
              "      background-color: #E8F0FE;\n",
              "      border: none;\n",
              "      border-radius: 50%;\n",
              "      cursor: pointer;\n",
              "      display: none;\n",
              "      fill: #1967D2;\n",
              "      height: 32px;\n",
              "      padding: 0 0 0 0;\n",
              "      width: 32px;\n",
              "    }\n",
              "\n",
              "    .colab-df-convert:hover {\n",
              "      background-color: #E2EBFA;\n",
              "      box-shadow: 0px 1px 2px rgba(60, 64, 67, 0.3), 0px 1px 3px 1px rgba(60, 64, 67, 0.15);\n",
              "      fill: #174EA6;\n",
              "    }\n",
              "\n",
              "    [theme=dark] .colab-df-convert {\n",
              "      background-color: #3B4455;\n",
              "      fill: #D2E3FC;\n",
              "    }\n",
              "\n",
              "    [theme=dark] .colab-df-convert:hover {\n",
              "      background-color: #434B5C;\n",
              "      box-shadow: 0px 1px 3px 1px rgba(0, 0, 0, 0.15);\n",
              "      filter: drop-shadow(0px 1px 2px rgba(0, 0, 0, 0.3));\n",
              "      fill: #FFFFFF;\n",
              "    }\n",
              "  </style>\n",
              "\n",
              "      <script>\n",
              "        const buttonEl =\n",
              "          document.querySelector('#df-dcf430c2-69da-41ca-afcf-8310567847ee button.colab-df-convert');\n",
              "        buttonEl.style.display =\n",
              "          google.colab.kernel.accessAllowed ? 'block' : 'none';\n",
              "\n",
              "        async function convertToInteractive(key) {\n",
              "          const element = document.querySelector('#df-dcf430c2-69da-41ca-afcf-8310567847ee');\n",
              "          const dataTable =\n",
              "            await google.colab.kernel.invokeFunction('convertToInteractive',\n",
              "                                                     [key], {});\n",
              "          if (!dataTable) return;\n",
              "\n",
              "          const docLinkHtml = 'Like what you see? Visit the ' +\n",
              "            '<a target=\"_blank\" href=https://colab.research.google.com/notebooks/data_table.ipynb>data table notebook</a>'\n",
              "            + ' to learn more about interactive tables.';\n",
              "          element.innerHTML = '';\n",
              "          dataTable['output_type'] = 'display_data';\n",
              "          await google.colab.output.renderOutput(dataTable, element);\n",
              "          const docLink = document.createElement('div');\n",
              "          docLink.innerHTML = docLinkHtml;\n",
              "          element.appendChild(docLink);\n",
              "        }\n",
              "      </script>\n",
              "    </div>\n",
              "  </div>\n",
              "  "
            ]
          },
          "metadata": {},
          "execution_count": 283
        }
      ]
    },
    {
      "cell_type": "markdown",
      "source": [
        "**Accuracy**: El modelo ajusta razonablemente bien con más de  75% en accuracy de  tanto en train como en test en todos los modelos \n",
        "\n",
        "**Precisión:**  El modelo que mejor precision tiene es Random Forest. \n",
        "\n",
        "**Recall**: El modelo que tiene mejor recall o sensibilidad, es decir proporicion de casos positivos bien identificados por el algoritmo es el modelo de Regresión Logística.\n",
        "\n",
        "**f1-Score**: De todos los modelos el que mejor se ajusta en f1 es el modelo de AdaBoostClassifier.\n",
        "\n",
        "\n",
        "\n"
      ],
      "metadata": {
        "id": "ZAvXnB5PfLqo"
      }
    },
    {
      "cell_type": "markdown",
      "source": [
        "Con la métrica de precisión podemos medir la calidad del modelo de machine learning en tareas de clasificación, en nuestro caso teniendo en cuenta los resultados el modelo más preciso es Random Forest.\n",
        "\n",
        "Si observamos los resultados respecto a la métrica de sensibilidad (recall), que nos informa sobre la cantidad que el modelo de machine learning es capaz de identificar podemos concluir que este modelo tiene un valor de 0.13 respecto a Regresión Logística que tiene 0.77 valor.\n",
        "\n",
        "Nos interesa analizar más profundamente esta medida, ya que\n",
        "*Recall* es la proporción de positivos reales que se\n",
        "identificó que van a abandonar su posición laboral, aunque ese número también podría incluir falsos positivos, los cuáles serían los que no se quieren ir realmente de su puesto de trabajo o lo que están en duda si en abandonar la posición, para lo cuál deberíamos modificar la precisión para que esto disminuya.\n",
        "\n",
        "Sin embargo, si quisieramos comparar el rendimiento combinado de la precisión y la exhaustividad del modelo elegido, el valor F1 sería el utilizado para combinar las medidas de precisión y recall en un sólo valor."
      ],
      "metadata": {
        "id": "uRlXIvqulXJt"
      }
    },
    {
      "cell_type": "code",
      "source": [
        ""
      ],
      "metadata": {
        "id": "KaYYZH1ZgFFg"
      },
      "execution_count": null,
      "outputs": []
    },
    {
      "cell_type": "markdown",
      "source": [
        ""
      ],
      "metadata": {
        "id": "trEUQkKtQJZD"
      }
    }
  ]
}